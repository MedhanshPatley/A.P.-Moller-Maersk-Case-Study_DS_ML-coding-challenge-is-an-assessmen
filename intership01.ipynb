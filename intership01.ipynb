{
 "cells": [
  {
   "cell_type": "code",
   "execution_count": 42,
   "id": "initial_id",
   "metadata": {
    "collapsed": true,
    "ExecuteTime": {
     "end_time": "2024-05-11T17:33:05.389501100Z",
     "start_time": "2024-05-11T17:33:05.022205600Z"
    }
   },
   "outputs": [],
   "source": [
    "import pandas as pd\n",
    "import matplotlib.pyplot as plt\n",
    "import seaborn as sns\n",
    "from sklearn.preprocessing import LabelEncoder\n",
    "from sklearn.model_selection import train_test_split\n",
    "from sklearn.ensemble import RandomForestRegressor\n",
    "from sklearn.metrics import mean_squared_error\n",
    "from sklearn.metrics import mean_absolute_error\n",
    "import lightgbm as lgb"
   ]
  },
  {
   "cell_type": "code",
   "execution_count": 43,
   "id": "d7c0bdb90944eb8b",
   "metadata": {
    "ExecuteTime": {
     "end_time": "2024-05-11T17:33:05.438683600Z",
     "start_time": "2024-05-11T17:33:05.050261600Z"
    }
   },
   "outputs": [],
   "source": [
    "# Load the dataset\n",
    "data = pd.read_csv('DS_ML Coding Challenge Dataset (1).xlsx - Training Dataset.csv') \n",
    "data_test = pd.read_csv('DS_ML Coding Challenge Dataset (1).xlsx - Test Dataset.csv')"
   ]
  },
  {
   "cell_type": "code",
   "execution_count": 44,
   "id": "f65759357d786913",
   "metadata": {
    "ExecuteTime": {
     "end_time": "2024-05-11T17:33:05.456551Z",
     "start_time": "2024-05-11T17:33:05.421320600Z"
    }
   },
   "outputs": [
    {
     "data": {
      "text/plain": "       ProductType Manufacturer Area Code Sourcing Channel Product Size  \\\n0             NTM3           X1       A28        WHOLESALE        Large   \n1             NTM2           X1        A9           DIRECT        Large   \n2             NTM3           X2       A20           DIRECT        Large   \n3             NTM3           X1       A18        WHOLESALE        Small   \n4             NTM2           X1       A28           DIRECT        Large   \n...            ...          ...       ...              ...          ...   \n550171        NTM2           X1        A5           DIRECT        Large   \n550172        NTM3           X1       A14           DIRECT        Large   \n550173        NTM2           X1        A5           DIRECT        Small   \n550174        NTM2           X1        A7           DIRECT        Small   \n550175        NTM1           X1        A3           DIRECT        Small   \n\n       Product Type Month of Sourcing  Sourcing Cost  \n0            Powder            May-21          10.16  \n1            Powder            Oct-20         134.28  \n2            Powder            Dec-20          12.46  \n3            Powder            Feb-21         107.22  \n4            Liquid            Nov-20         197.76  \n...             ...               ...            ...  \n550171       Powder            Jul-20         136.47  \n550172       Liquid            Oct-20          72.56  \n550173       Powder            Mar-21         147.64  \n550174       Powder            Feb-21         150.04  \n550175       Powder            Nov-20         139.42  \n\n[550176 rows x 8 columns]",
      "text/html": "<div>\n<style scoped>\n    .dataframe tbody tr th:only-of-type {\n        vertical-align: middle;\n    }\n\n    .dataframe tbody tr th {\n        vertical-align: top;\n    }\n\n    .dataframe thead th {\n        text-align: right;\n    }\n</style>\n<table border=\"1\" class=\"dataframe\">\n  <thead>\n    <tr style=\"text-align: right;\">\n      <th></th>\n      <th>ProductType</th>\n      <th>Manufacturer</th>\n      <th>Area Code</th>\n      <th>Sourcing Channel</th>\n      <th>Product Size</th>\n      <th>Product Type</th>\n      <th>Month of Sourcing</th>\n      <th>Sourcing Cost</th>\n    </tr>\n  </thead>\n  <tbody>\n    <tr>\n      <th>0</th>\n      <td>NTM3</td>\n      <td>X1</td>\n      <td>A28</td>\n      <td>WHOLESALE</td>\n      <td>Large</td>\n      <td>Powder</td>\n      <td>May-21</td>\n      <td>10.16</td>\n    </tr>\n    <tr>\n      <th>1</th>\n      <td>NTM2</td>\n      <td>X1</td>\n      <td>A9</td>\n      <td>DIRECT</td>\n      <td>Large</td>\n      <td>Powder</td>\n      <td>Oct-20</td>\n      <td>134.28</td>\n    </tr>\n    <tr>\n      <th>2</th>\n      <td>NTM3</td>\n      <td>X2</td>\n      <td>A20</td>\n      <td>DIRECT</td>\n      <td>Large</td>\n      <td>Powder</td>\n      <td>Dec-20</td>\n      <td>12.46</td>\n    </tr>\n    <tr>\n      <th>3</th>\n      <td>NTM3</td>\n      <td>X1</td>\n      <td>A18</td>\n      <td>WHOLESALE</td>\n      <td>Small</td>\n      <td>Powder</td>\n      <td>Feb-21</td>\n      <td>107.22</td>\n    </tr>\n    <tr>\n      <th>4</th>\n      <td>NTM2</td>\n      <td>X1</td>\n      <td>A28</td>\n      <td>DIRECT</td>\n      <td>Large</td>\n      <td>Liquid</td>\n      <td>Nov-20</td>\n      <td>197.76</td>\n    </tr>\n    <tr>\n      <th>...</th>\n      <td>...</td>\n      <td>...</td>\n      <td>...</td>\n      <td>...</td>\n      <td>...</td>\n      <td>...</td>\n      <td>...</td>\n      <td>...</td>\n    </tr>\n    <tr>\n      <th>550171</th>\n      <td>NTM2</td>\n      <td>X1</td>\n      <td>A5</td>\n      <td>DIRECT</td>\n      <td>Large</td>\n      <td>Powder</td>\n      <td>Jul-20</td>\n      <td>136.47</td>\n    </tr>\n    <tr>\n      <th>550172</th>\n      <td>NTM3</td>\n      <td>X1</td>\n      <td>A14</td>\n      <td>DIRECT</td>\n      <td>Large</td>\n      <td>Liquid</td>\n      <td>Oct-20</td>\n      <td>72.56</td>\n    </tr>\n    <tr>\n      <th>550173</th>\n      <td>NTM2</td>\n      <td>X1</td>\n      <td>A5</td>\n      <td>DIRECT</td>\n      <td>Small</td>\n      <td>Powder</td>\n      <td>Mar-21</td>\n      <td>147.64</td>\n    </tr>\n    <tr>\n      <th>550174</th>\n      <td>NTM2</td>\n      <td>X1</td>\n      <td>A7</td>\n      <td>DIRECT</td>\n      <td>Small</td>\n      <td>Powder</td>\n      <td>Feb-21</td>\n      <td>150.04</td>\n    </tr>\n    <tr>\n      <th>550175</th>\n      <td>NTM1</td>\n      <td>X1</td>\n      <td>A3</td>\n      <td>DIRECT</td>\n      <td>Small</td>\n      <td>Powder</td>\n      <td>Nov-20</td>\n      <td>139.42</td>\n    </tr>\n  </tbody>\n</table>\n<p>550176 rows × 8 columns</p>\n</div>"
     },
     "execution_count": 44,
     "metadata": {},
     "output_type": "execute_result"
    }
   ],
   "source": [
    "data"
   ]
  },
  {
   "cell_type": "code",
   "execution_count": 45,
   "outputs": [],
   "source": [
    "# data_test.drop(['Sourcing Cost'],axis=1,inplace=True)"
   ],
   "metadata": {
    "collapsed": false,
    "ExecuteTime": {
     "end_time": "2024-05-11T17:33:05.460550400Z",
     "start_time": "2024-05-11T17:33:05.445549200Z"
    }
   },
   "id": "88778a1c352cd9e1"
  },
  {
   "cell_type": "code",
   "execution_count": 46,
   "outputs": [
    {
     "data": {
      "text/plain": "   ProductType Manufacturer Area Code Sourcing Channel Product Size  \\\n0         NTM1           X1        A1           DIRECT        Small   \n1         NTM1           X1       A10           DIRECT        Large   \n2         NTM1           X1       A10             ECOM        Large   \n3         NTM1           X1       A11           DIRECT        Large   \n4         NTM1           X1        A2           DIRECT        Large   \n..         ...          ...       ...              ...          ...   \n91        NTM3           X1       A44           DIRECT        Small   \n92        NTM3           X1        A8           DIRECT        Large   \n93        NTM3           X1        A8           DIRECT        Small   \n94        NTM3           X2       A20           DIRECT        Large   \n95        NTM3           X3       A22           RETAIL        Large   \n\n   Product Type Month of Sourcing  Sourcing Cost  \n0        Powder            Jun-21         103.68  \n1        Powder            Jun-21         155.75  \n2        Powder            Jun-21         143.02  \n3        Powder            Jun-21         139.39  \n4        Powder            Jun-21         169.42  \n..          ...               ...            ...  \n91       Liquid            Jun-21          89.57  \n92       Powder            Jun-21         114.57  \n93       Powder            Jun-21         111.26  \n94       Powder            Jun-21          32.32  \n95       Powder            Jun-21          40.73  \n\n[96 rows x 8 columns]",
      "text/html": "<div>\n<style scoped>\n    .dataframe tbody tr th:only-of-type {\n        vertical-align: middle;\n    }\n\n    .dataframe tbody tr th {\n        vertical-align: top;\n    }\n\n    .dataframe thead th {\n        text-align: right;\n    }\n</style>\n<table border=\"1\" class=\"dataframe\">\n  <thead>\n    <tr style=\"text-align: right;\">\n      <th></th>\n      <th>ProductType</th>\n      <th>Manufacturer</th>\n      <th>Area Code</th>\n      <th>Sourcing Channel</th>\n      <th>Product Size</th>\n      <th>Product Type</th>\n      <th>Month of Sourcing</th>\n      <th>Sourcing Cost</th>\n    </tr>\n  </thead>\n  <tbody>\n    <tr>\n      <th>0</th>\n      <td>NTM1</td>\n      <td>X1</td>\n      <td>A1</td>\n      <td>DIRECT</td>\n      <td>Small</td>\n      <td>Powder</td>\n      <td>Jun-21</td>\n      <td>103.68</td>\n    </tr>\n    <tr>\n      <th>1</th>\n      <td>NTM1</td>\n      <td>X1</td>\n      <td>A10</td>\n      <td>DIRECT</td>\n      <td>Large</td>\n      <td>Powder</td>\n      <td>Jun-21</td>\n      <td>155.75</td>\n    </tr>\n    <tr>\n      <th>2</th>\n      <td>NTM1</td>\n      <td>X1</td>\n      <td>A10</td>\n      <td>ECOM</td>\n      <td>Large</td>\n      <td>Powder</td>\n      <td>Jun-21</td>\n      <td>143.02</td>\n    </tr>\n    <tr>\n      <th>3</th>\n      <td>NTM1</td>\n      <td>X1</td>\n      <td>A11</td>\n      <td>DIRECT</td>\n      <td>Large</td>\n      <td>Powder</td>\n      <td>Jun-21</td>\n      <td>139.39</td>\n    </tr>\n    <tr>\n      <th>4</th>\n      <td>NTM1</td>\n      <td>X1</td>\n      <td>A2</td>\n      <td>DIRECT</td>\n      <td>Large</td>\n      <td>Powder</td>\n      <td>Jun-21</td>\n      <td>169.42</td>\n    </tr>\n    <tr>\n      <th>...</th>\n      <td>...</td>\n      <td>...</td>\n      <td>...</td>\n      <td>...</td>\n      <td>...</td>\n      <td>...</td>\n      <td>...</td>\n      <td>...</td>\n    </tr>\n    <tr>\n      <th>91</th>\n      <td>NTM3</td>\n      <td>X1</td>\n      <td>A44</td>\n      <td>DIRECT</td>\n      <td>Small</td>\n      <td>Liquid</td>\n      <td>Jun-21</td>\n      <td>89.57</td>\n    </tr>\n    <tr>\n      <th>92</th>\n      <td>NTM3</td>\n      <td>X1</td>\n      <td>A8</td>\n      <td>DIRECT</td>\n      <td>Large</td>\n      <td>Powder</td>\n      <td>Jun-21</td>\n      <td>114.57</td>\n    </tr>\n    <tr>\n      <th>93</th>\n      <td>NTM3</td>\n      <td>X1</td>\n      <td>A8</td>\n      <td>DIRECT</td>\n      <td>Small</td>\n      <td>Powder</td>\n      <td>Jun-21</td>\n      <td>111.26</td>\n    </tr>\n    <tr>\n      <th>94</th>\n      <td>NTM3</td>\n      <td>X2</td>\n      <td>A20</td>\n      <td>DIRECT</td>\n      <td>Large</td>\n      <td>Powder</td>\n      <td>Jun-21</td>\n      <td>32.32</td>\n    </tr>\n    <tr>\n      <th>95</th>\n      <td>NTM3</td>\n      <td>X3</td>\n      <td>A22</td>\n      <td>RETAIL</td>\n      <td>Large</td>\n      <td>Powder</td>\n      <td>Jun-21</td>\n      <td>40.73</td>\n    </tr>\n  </tbody>\n</table>\n<p>96 rows × 8 columns</p>\n</div>"
     },
     "execution_count": 46,
     "metadata": {},
     "output_type": "execute_result"
    }
   ],
   "source": [
    "data_test"
   ],
   "metadata": {
    "collapsed": false,
    "ExecuteTime": {
     "end_time": "2024-05-11T17:33:05.529875100Z",
     "start_time": "2024-05-11T17:33:05.469588500Z"
    }
   },
   "id": "553d30ab1a519517"
  },
  {
   "cell_type": "code",
   "execution_count": 47,
   "outputs": [
    {
     "data": {
      "text/plain": "ProductType          0\nManufacturer         0\nArea Code            0\nSourcing Channel     0\nProduct Size         0\nProduct Type         0\nMonth of Sourcing    0\nSourcing Cost        0\ndtype: int64"
     },
     "execution_count": 47,
     "metadata": {},
     "output_type": "execute_result"
    }
   ],
   "source": [
    "data_test.isnull().sum()"
   ],
   "metadata": {
    "collapsed": false,
    "ExecuteTime": {
     "end_time": "2024-05-11T17:33:05.542921300Z",
     "start_time": "2024-05-11T17:33:05.480162500Z"
    }
   },
   "id": "1dbbfd5c2cb085dd"
  },
  {
   "cell_type": "code",
   "execution_count": 48,
   "outputs": [],
   "source": [
    "# Convert 'Month of Sourcing' column to datetime using a custom format\n",
    "# data_test['Month of Sourcing'] = pd.to_datetime(data['Month of Sourcing'], format='%b-%y', errors='coerce')"
   ],
   "metadata": {
    "collapsed": false,
    "ExecuteTime": {
     "end_time": "2024-05-11T17:33:05.548952600Z",
     "start_time": "2024-05-11T17:33:05.492821600Z"
    }
   },
   "id": "cfbe9d0043bddc31"
  },
  {
   "cell_type": "code",
   "execution_count": 49,
   "outputs": [
    {
     "name": "stdout",
     "output_type": "stream",
     "text": [
      "<class 'pandas.core.frame.DataFrame'>\n",
      "RangeIndex: 550176 entries, 0 to 550175\n",
      "Data columns (total 8 columns):\n",
      " #   Column             Non-Null Count   Dtype  \n",
      "---  ------             --------------   -----  \n",
      " 0   ProductType        550176 non-null  object \n",
      " 1   Manufacturer       550176 non-null  object \n",
      " 2   Area Code          550176 non-null  object \n",
      " 3   Sourcing Channel   550176 non-null  object \n",
      " 4   Product Size       550176 non-null  object \n",
      " 5   Product Type       550176 non-null  object \n",
      " 6   Month of Sourcing  550176 non-null  object \n",
      " 7   Sourcing Cost      550176 non-null  float64\n",
      "dtypes: float64(1), object(7)\n",
      "memory usage: 33.6+ MB\n"
     ]
    }
   ],
   "source": [
    "data.info()"
   ],
   "metadata": {
    "collapsed": false,
    "ExecuteTime": {
     "end_time": "2024-05-11T17:33:05.784582800Z",
     "start_time": "2024-05-11T17:33:05.506817700Z"
    }
   },
   "id": "4765d8166302ed7a"
  },
  {
   "cell_type": "code",
   "execution_count": 50,
   "outputs": [
    {
     "data": {
      "text/plain": "       Sourcing Cost\ncount  550176.000000\nmean      108.817286\nstd       104.390093\nmin      -196.070000\n25%        57.000000\n50%       132.000000\n75%       146.150000\nmax     32632.500000",
      "text/html": "<div>\n<style scoped>\n    .dataframe tbody tr th:only-of-type {\n        vertical-align: middle;\n    }\n\n    .dataframe tbody tr th {\n        vertical-align: top;\n    }\n\n    .dataframe thead th {\n        text-align: right;\n    }\n</style>\n<table border=\"1\" class=\"dataframe\">\n  <thead>\n    <tr style=\"text-align: right;\">\n      <th></th>\n      <th>Sourcing Cost</th>\n    </tr>\n  </thead>\n  <tbody>\n    <tr>\n      <th>count</th>\n      <td>550176.000000</td>\n    </tr>\n    <tr>\n      <th>mean</th>\n      <td>108.817286</td>\n    </tr>\n    <tr>\n      <th>std</th>\n      <td>104.390093</td>\n    </tr>\n    <tr>\n      <th>min</th>\n      <td>-196.070000</td>\n    </tr>\n    <tr>\n      <th>25%</th>\n      <td>57.000000</td>\n    </tr>\n    <tr>\n      <th>50%</th>\n      <td>132.000000</td>\n    </tr>\n    <tr>\n      <th>75%</th>\n      <td>146.150000</td>\n    </tr>\n    <tr>\n      <th>max</th>\n      <td>32632.500000</td>\n    </tr>\n  </tbody>\n</table>\n</div>"
     },
     "execution_count": 50,
     "metadata": {},
     "output_type": "execute_result"
    }
   ],
   "source": [
    "data.describe()"
   ],
   "metadata": {
    "collapsed": false,
    "ExecuteTime": {
     "end_time": "2024-05-11T17:33:05.786586300Z",
     "start_time": "2024-05-11T17:33:05.664601700Z"
    }
   },
   "id": "8775b056935e590a"
  },
  {
   "cell_type": "code",
   "execution_count": 51,
   "outputs": [
    {
     "data": {
      "text/plain": "       ProductType Manufacturer Area Code Sourcing Channel Product Size  \\\n0             NTM3           X1       A28        WHOLESALE        Large   \n1             NTM2           X1        A9           DIRECT        Large   \n2             NTM3           X2       A20           DIRECT        Large   \n3             NTM3           X1       A18        WHOLESALE        Small   \n4             NTM2           X1       A28           DIRECT        Large   \n...            ...          ...       ...              ...          ...   \n550171        NTM2           X1        A5           DIRECT        Large   \n550172        NTM3           X1       A14           DIRECT        Large   \n550173        NTM2           X1        A5           DIRECT        Small   \n550174        NTM2           X1        A7           DIRECT        Small   \n550175        NTM1           X1        A3           DIRECT        Small   \n\n       Product Type Month of Sourcing  Sourcing Cost  \n0            Powder            May-21          10.16  \n1            Powder            Oct-20         134.28  \n2            Powder            Dec-20          12.46  \n3            Powder            Feb-21         107.22  \n4            Liquid            Nov-20         197.76  \n...             ...               ...            ...  \n550171       Powder            Jul-20         136.47  \n550172       Liquid            Oct-20          72.56  \n550173       Powder            Mar-21         147.64  \n550174       Powder            Feb-21         150.04  \n550175       Powder            Nov-20         139.42  \n\n[550176 rows x 8 columns]",
      "text/html": "<div>\n<style scoped>\n    .dataframe tbody tr th:only-of-type {\n        vertical-align: middle;\n    }\n\n    .dataframe tbody tr th {\n        vertical-align: top;\n    }\n\n    .dataframe thead th {\n        text-align: right;\n    }\n</style>\n<table border=\"1\" class=\"dataframe\">\n  <thead>\n    <tr style=\"text-align: right;\">\n      <th></th>\n      <th>ProductType</th>\n      <th>Manufacturer</th>\n      <th>Area Code</th>\n      <th>Sourcing Channel</th>\n      <th>Product Size</th>\n      <th>Product Type</th>\n      <th>Month of Sourcing</th>\n      <th>Sourcing Cost</th>\n    </tr>\n  </thead>\n  <tbody>\n    <tr>\n      <th>0</th>\n      <td>NTM3</td>\n      <td>X1</td>\n      <td>A28</td>\n      <td>WHOLESALE</td>\n      <td>Large</td>\n      <td>Powder</td>\n      <td>May-21</td>\n      <td>10.16</td>\n    </tr>\n    <tr>\n      <th>1</th>\n      <td>NTM2</td>\n      <td>X1</td>\n      <td>A9</td>\n      <td>DIRECT</td>\n      <td>Large</td>\n      <td>Powder</td>\n      <td>Oct-20</td>\n      <td>134.28</td>\n    </tr>\n    <tr>\n      <th>2</th>\n      <td>NTM3</td>\n      <td>X2</td>\n      <td>A20</td>\n      <td>DIRECT</td>\n      <td>Large</td>\n      <td>Powder</td>\n      <td>Dec-20</td>\n      <td>12.46</td>\n    </tr>\n    <tr>\n      <th>3</th>\n      <td>NTM3</td>\n      <td>X1</td>\n      <td>A18</td>\n      <td>WHOLESALE</td>\n      <td>Small</td>\n      <td>Powder</td>\n      <td>Feb-21</td>\n      <td>107.22</td>\n    </tr>\n    <tr>\n      <th>4</th>\n      <td>NTM2</td>\n      <td>X1</td>\n      <td>A28</td>\n      <td>DIRECT</td>\n      <td>Large</td>\n      <td>Liquid</td>\n      <td>Nov-20</td>\n      <td>197.76</td>\n    </tr>\n    <tr>\n      <th>...</th>\n      <td>...</td>\n      <td>...</td>\n      <td>...</td>\n      <td>...</td>\n      <td>...</td>\n      <td>...</td>\n      <td>...</td>\n      <td>...</td>\n    </tr>\n    <tr>\n      <th>550171</th>\n      <td>NTM2</td>\n      <td>X1</td>\n      <td>A5</td>\n      <td>DIRECT</td>\n      <td>Large</td>\n      <td>Powder</td>\n      <td>Jul-20</td>\n      <td>136.47</td>\n    </tr>\n    <tr>\n      <th>550172</th>\n      <td>NTM3</td>\n      <td>X1</td>\n      <td>A14</td>\n      <td>DIRECT</td>\n      <td>Large</td>\n      <td>Liquid</td>\n      <td>Oct-20</td>\n      <td>72.56</td>\n    </tr>\n    <tr>\n      <th>550173</th>\n      <td>NTM2</td>\n      <td>X1</td>\n      <td>A5</td>\n      <td>DIRECT</td>\n      <td>Small</td>\n      <td>Powder</td>\n      <td>Mar-21</td>\n      <td>147.64</td>\n    </tr>\n    <tr>\n      <th>550174</th>\n      <td>NTM2</td>\n      <td>X1</td>\n      <td>A7</td>\n      <td>DIRECT</td>\n      <td>Small</td>\n      <td>Powder</td>\n      <td>Feb-21</td>\n      <td>150.04</td>\n    </tr>\n    <tr>\n      <th>550175</th>\n      <td>NTM1</td>\n      <td>X1</td>\n      <td>A3</td>\n      <td>DIRECT</td>\n      <td>Small</td>\n      <td>Powder</td>\n      <td>Nov-20</td>\n      <td>139.42</td>\n    </tr>\n  </tbody>\n</table>\n<p>550176 rows × 8 columns</p>\n</div>"
     },
     "execution_count": 51,
     "metadata": {},
     "output_type": "execute_result"
    }
   ],
   "source": [
    "data"
   ],
   "metadata": {
    "collapsed": false,
    "ExecuteTime": {
     "end_time": "2024-05-11T17:33:05.804886400Z",
     "start_time": "2024-05-11T17:33:05.725929Z"
    }
   },
   "id": "a52c5c07a5c9b68b"
  },
  {
   "cell_type": "code",
   "execution_count": 52,
   "outputs": [],
   "source": [
    "import pandas as pd\n",
    "from sklearn.preprocessing import LabelEncoder\n",
    "\n",
    "def preprocess_data(data):\n",
    "    # Label Encoding for categorical variables\n",
    "    label_encoder = LabelEncoder()\n",
    "    data['ProductType'] = label_encoder.fit_transform(data['ProductType'])\n",
    "    data['Manufacturer'] = label_encoder.fit_transform(data['Manufacturer'])\n",
    "    data['Area Code'] = label_encoder.fit_transform(data['Area Code'])\n",
    "    data['Sourcing Channel'] = label_encoder.fit_transform(data['Sourcing Channel'])\n",
    "    data['Product Size'] = label_encoder.fit_transform(data['Product Size'])\n",
    "    data['Product Type'] = label_encoder.fit_transform(data['Product Type'])\n",
    "    data['Month of Sourcing'] = label_encoder.fit_transform(data['Month of Sourcing'])\n",
    "    \n",
    "\n",
    "    # Datetime conversion\n",
    "    # data['Month of Sourcing'] = pd.to_datetime(data['Month of Sourcing'], format='%b-%y')\n",
    "    # Convert float to int\n",
    "    data['Sourcing Cost'] = data['Sourcing Cost'].astype(int)\n",
    "\n",
    "    # Convert datetime to integer representation\n",
    "    # data['Month of Sourcing'] = data['Month of Sourcing'].apply(lambda x: x.timestamp())\n",
    "\n",
    "    # Convert to integer\n",
    "    # data['Month of Sourcing'] = data['Month of Sourcing'].astype(int)\n",
    "    \n",
    "    return data\n",
    "\n",
    "# Example usage:\n",
    "# train_data = preprocess_data(train_data)\n",
    "# test_data = preprocess_data(test_data)\n"
   ],
   "metadata": {
    "collapsed": false,
    "ExecuteTime": {
     "end_time": "2024-05-11T17:33:05.804886400Z",
     "start_time": "2024-05-11T17:33:05.764751500Z"
    }
   },
   "id": "b5cc8f72e2bf0465"
  },
  {
   "cell_type": "code",
   "execution_count": 79,
   "outputs": [],
   "source": [
    "import pandas as pd\n",
    "from sklearn.preprocessing import LabelEncoder\n",
    "\n",
    "def preprocess_data_test(data):\n",
    "    # Label Encoding for categorical variables\n",
    "    label_encoder = LabelEncoder()\n",
    "    data['ProductType'] = label_encoder.fit_transform(data['ProductType'])\n",
    "    data['Manufacturer'] = label_encoder.fit_transform(data['Manufacturer'])\n",
    "    data['Area Code'] = label_encoder.fit_transform(data['Area Code'])\n",
    "    data['Sourcing Channel'] = label_encoder.fit_transform(data['Sourcing Channel'])\n",
    "    data['Product Size'] = label_encoder.fit_transform(data['Product Size'])\n",
    "    data['Product Type'] = label_encoder.fit_transform(data['Product Type'])\n",
    "    data['Month of Sourcing'] = label_encoder.fit_transform(data['Month of Sourcing'])\n",
    "    \n",
    "\n",
    "    # Datetime conversion\n",
    "    # data['Month of Sourcing'] = pd.to_datetime(data['Month of Sourcing'], format='%b-%y')\n",
    "    # Convert float to int\n",
    "    # data['Sourcing Cost'] = data['Sourcing Cost'].astype(int)\n",
    "\n",
    "    # Convert datetime to integer representation\n",
    "    # data['Month of Sourcing'] = data['Month of Sourcing'].apply(lambda x: x.timestamp())\n",
    "\n",
    "    # Convert to integer\n",
    "    # data['Month of Sourcing'] = data['Month of Sourcing'].astype(int)\n",
    "    \n",
    "    return data\n",
    "\n",
    "# Example usage:\n",
    "# train_data = preprocess_data(train_data)\n",
    "# test_data = preprocess_data(test_data)\n"
   ],
   "metadata": {
    "collapsed": false,
    "ExecuteTime": {
     "end_time": "2024-05-11T17:37:08.284679600Z",
     "start_time": "2024-05-11T17:37:08.243058300Z"
    }
   },
   "id": "8ee4b24a596257ca"
  },
  {
   "cell_type": "code",
   "execution_count": 53,
   "outputs": [],
   "source": [
    "train_data = preprocess_data(data)\n",
    "\n",
    "# Confirm the changes"
   ],
   "metadata": {
    "collapsed": false,
    "ExecuteTime": {
     "end_time": "2024-05-11T17:33:06.551397800Z",
     "start_time": "2024-05-11T17:33:05.807879100Z"
    }
   },
   "id": "7f102fe19ec3ea14"
  },
  {
   "cell_type": "code",
   "execution_count": 54,
   "outputs": [
    {
     "data": {
      "text/plain": "        ProductType  Manufacturer  Area Code  Sourcing Channel  Product Size  \\\n0                 2             0         19                 3             1   \n1                 1             0         44                 0             1   \n2                 2             1         12                 0             1   \n3                 2             0          9                 3             2   \n4                 1             0         19                 0             1   \n...             ...           ...        ...               ...           ...   \n550171            1             0         40                 0             1   \n550172            2             0          5                 0             1   \n550173            1             0         40                 0             2   \n550174            1             0         42                 0             2   \n550175            0             0         21                 0             2   \n\n        Product Type  Month of Sourcing  Sourcing Cost  \n0                  1                  7             10  \n1                  1                  9            134  \n2                  1                  2             12  \n3                  1                  3            107  \n4                  0                  8            197  \n...              ...                ...            ...  \n550171             1                  5            136  \n550172             0                  9             72  \n550173             1                  6            147  \n550174             1                  3            150  \n550175             1                  8            139  \n\n[550176 rows x 8 columns]",
      "text/html": "<div>\n<style scoped>\n    .dataframe tbody tr th:only-of-type {\n        vertical-align: middle;\n    }\n\n    .dataframe tbody tr th {\n        vertical-align: top;\n    }\n\n    .dataframe thead th {\n        text-align: right;\n    }\n</style>\n<table border=\"1\" class=\"dataframe\">\n  <thead>\n    <tr style=\"text-align: right;\">\n      <th></th>\n      <th>ProductType</th>\n      <th>Manufacturer</th>\n      <th>Area Code</th>\n      <th>Sourcing Channel</th>\n      <th>Product Size</th>\n      <th>Product Type</th>\n      <th>Month of Sourcing</th>\n      <th>Sourcing Cost</th>\n    </tr>\n  </thead>\n  <tbody>\n    <tr>\n      <th>0</th>\n      <td>2</td>\n      <td>0</td>\n      <td>19</td>\n      <td>3</td>\n      <td>1</td>\n      <td>1</td>\n      <td>7</td>\n      <td>10</td>\n    </tr>\n    <tr>\n      <th>1</th>\n      <td>1</td>\n      <td>0</td>\n      <td>44</td>\n      <td>0</td>\n      <td>1</td>\n      <td>1</td>\n      <td>9</td>\n      <td>134</td>\n    </tr>\n    <tr>\n      <th>2</th>\n      <td>2</td>\n      <td>1</td>\n      <td>12</td>\n      <td>0</td>\n      <td>1</td>\n      <td>1</td>\n      <td>2</td>\n      <td>12</td>\n    </tr>\n    <tr>\n      <th>3</th>\n      <td>2</td>\n      <td>0</td>\n      <td>9</td>\n      <td>3</td>\n      <td>2</td>\n      <td>1</td>\n      <td>3</td>\n      <td>107</td>\n    </tr>\n    <tr>\n      <th>4</th>\n      <td>1</td>\n      <td>0</td>\n      <td>19</td>\n      <td>0</td>\n      <td>1</td>\n      <td>0</td>\n      <td>8</td>\n      <td>197</td>\n    </tr>\n    <tr>\n      <th>...</th>\n      <td>...</td>\n      <td>...</td>\n      <td>...</td>\n      <td>...</td>\n      <td>...</td>\n      <td>...</td>\n      <td>...</td>\n      <td>...</td>\n    </tr>\n    <tr>\n      <th>550171</th>\n      <td>1</td>\n      <td>0</td>\n      <td>40</td>\n      <td>0</td>\n      <td>1</td>\n      <td>1</td>\n      <td>5</td>\n      <td>136</td>\n    </tr>\n    <tr>\n      <th>550172</th>\n      <td>2</td>\n      <td>0</td>\n      <td>5</td>\n      <td>0</td>\n      <td>1</td>\n      <td>0</td>\n      <td>9</td>\n      <td>72</td>\n    </tr>\n    <tr>\n      <th>550173</th>\n      <td>1</td>\n      <td>0</td>\n      <td>40</td>\n      <td>0</td>\n      <td>2</td>\n      <td>1</td>\n      <td>6</td>\n      <td>147</td>\n    </tr>\n    <tr>\n      <th>550174</th>\n      <td>1</td>\n      <td>0</td>\n      <td>42</td>\n      <td>0</td>\n      <td>2</td>\n      <td>1</td>\n      <td>3</td>\n      <td>150</td>\n    </tr>\n    <tr>\n      <th>550175</th>\n      <td>0</td>\n      <td>0</td>\n      <td>21</td>\n      <td>0</td>\n      <td>2</td>\n      <td>1</td>\n      <td>8</td>\n      <td>139</td>\n    </tr>\n  </tbody>\n</table>\n<p>550176 rows × 8 columns</p>\n</div>"
     },
     "execution_count": 54,
     "metadata": {},
     "output_type": "execute_result"
    }
   ],
   "source": [
    "train_data"
   ],
   "metadata": {
    "collapsed": false,
    "ExecuteTime": {
     "end_time": "2024-05-11T17:33:06.569691400Z",
     "start_time": "2024-05-11T17:33:06.545043800Z"
    }
   },
   "id": "15aaa0bf21ed827d"
  },
  {
   "cell_type": "code",
   "execution_count": 55,
   "outputs": [],
   "source": [
    "test_data = preprocess_data(data_test)"
   ],
   "metadata": {
    "collapsed": false,
    "ExecuteTime": {
     "end_time": "2024-05-11T17:33:06.602691400Z",
     "start_time": "2024-05-11T17:33:06.565680900Z"
    }
   },
   "id": "178ea66b2fedb6d2"
  },
  {
   "cell_type": "code",
   "execution_count": 56,
   "outputs": [
    {
     "data": {
      "text/plain": "    ProductType  Manufacturer  Area Code  Sourcing Channel  Product Size  \\\n0             0             0          0                 0             2   \n1             0             0          1                 0             1   \n2             0             0          1                 1             1   \n3             0             0          2                 0             1   \n4             0             0         11                 0             1   \n..          ...           ...        ...               ...           ...   \n91            2             0         37                 0             2   \n92            2             0         43                 0             1   \n93            2             0         43                 0             2   \n94            2             1         12                 0             1   \n95            2             2         14                 2             1   \n\n    Product Type  Month of Sourcing  Sourcing Cost  \n0              1                  0            103  \n1              1                  0            155  \n2              1                  0            143  \n3              1                  0            139  \n4              1                  0            169  \n..           ...                ...            ...  \n91             0                  0             89  \n92             1                  0            114  \n93             1                  0            111  \n94             1                  0             32  \n95             1                  0             40  \n\n[96 rows x 8 columns]",
      "text/html": "<div>\n<style scoped>\n    .dataframe tbody tr th:only-of-type {\n        vertical-align: middle;\n    }\n\n    .dataframe tbody tr th {\n        vertical-align: top;\n    }\n\n    .dataframe thead th {\n        text-align: right;\n    }\n</style>\n<table border=\"1\" class=\"dataframe\">\n  <thead>\n    <tr style=\"text-align: right;\">\n      <th></th>\n      <th>ProductType</th>\n      <th>Manufacturer</th>\n      <th>Area Code</th>\n      <th>Sourcing Channel</th>\n      <th>Product Size</th>\n      <th>Product Type</th>\n      <th>Month of Sourcing</th>\n      <th>Sourcing Cost</th>\n    </tr>\n  </thead>\n  <tbody>\n    <tr>\n      <th>0</th>\n      <td>0</td>\n      <td>0</td>\n      <td>0</td>\n      <td>0</td>\n      <td>2</td>\n      <td>1</td>\n      <td>0</td>\n      <td>103</td>\n    </tr>\n    <tr>\n      <th>1</th>\n      <td>0</td>\n      <td>0</td>\n      <td>1</td>\n      <td>0</td>\n      <td>1</td>\n      <td>1</td>\n      <td>0</td>\n      <td>155</td>\n    </tr>\n    <tr>\n      <th>2</th>\n      <td>0</td>\n      <td>0</td>\n      <td>1</td>\n      <td>1</td>\n      <td>1</td>\n      <td>1</td>\n      <td>0</td>\n      <td>143</td>\n    </tr>\n    <tr>\n      <th>3</th>\n      <td>0</td>\n      <td>0</td>\n      <td>2</td>\n      <td>0</td>\n      <td>1</td>\n      <td>1</td>\n      <td>0</td>\n      <td>139</td>\n    </tr>\n    <tr>\n      <th>4</th>\n      <td>0</td>\n      <td>0</td>\n      <td>11</td>\n      <td>0</td>\n      <td>1</td>\n      <td>1</td>\n      <td>0</td>\n      <td>169</td>\n    </tr>\n    <tr>\n      <th>...</th>\n      <td>...</td>\n      <td>...</td>\n      <td>...</td>\n      <td>...</td>\n      <td>...</td>\n      <td>...</td>\n      <td>...</td>\n      <td>...</td>\n    </tr>\n    <tr>\n      <th>91</th>\n      <td>2</td>\n      <td>0</td>\n      <td>37</td>\n      <td>0</td>\n      <td>2</td>\n      <td>0</td>\n      <td>0</td>\n      <td>89</td>\n    </tr>\n    <tr>\n      <th>92</th>\n      <td>2</td>\n      <td>0</td>\n      <td>43</td>\n      <td>0</td>\n      <td>1</td>\n      <td>1</td>\n      <td>0</td>\n      <td>114</td>\n    </tr>\n    <tr>\n      <th>93</th>\n      <td>2</td>\n      <td>0</td>\n      <td>43</td>\n      <td>0</td>\n      <td>2</td>\n      <td>1</td>\n      <td>0</td>\n      <td>111</td>\n    </tr>\n    <tr>\n      <th>94</th>\n      <td>2</td>\n      <td>1</td>\n      <td>12</td>\n      <td>0</td>\n      <td>1</td>\n      <td>1</td>\n      <td>0</td>\n      <td>32</td>\n    </tr>\n    <tr>\n      <th>95</th>\n      <td>2</td>\n      <td>2</td>\n      <td>14</td>\n      <td>2</td>\n      <td>1</td>\n      <td>1</td>\n      <td>0</td>\n      <td>40</td>\n    </tr>\n  </tbody>\n</table>\n<p>96 rows × 8 columns</p>\n</div>"
     },
     "execution_count": 56,
     "metadata": {},
     "output_type": "execute_result"
    }
   ],
   "source": [
    "\n",
    "test_data "
   ],
   "metadata": {
    "collapsed": false,
    "ExecuteTime": {
     "end_time": "2024-05-11T17:33:06.602691400Z",
     "start_time": "2024-05-11T17:33:06.578691100Z"
    }
   },
   "id": "1949f56dd42523c"
  },
  {
   "cell_type": "code",
   "execution_count": 57,
   "outputs": [
    {
     "name": "stdout",
     "output_type": "stream",
     "text": [
      "ProductType          int32\n",
      "Manufacturer         int32\n",
      "Area Code            int32\n",
      "Sourcing Channel     int32\n",
      "Product Size         int32\n",
      "Product Type         int32\n",
      "Month of Sourcing    int32\n",
      "Sourcing Cost        int32\n",
      "dtype: object\n"
     ]
    }
   ],
   "source": [
    "print(test_data.dtypes)"
   ],
   "metadata": {
    "collapsed": false,
    "ExecuteTime": {
     "end_time": "2024-05-11T17:33:06.730269700Z",
     "start_time": "2024-05-11T17:33:06.594596700Z"
    }
   },
   "id": "15d8cceaadde0dd6"
  },
  {
   "cell_type": "code",
   "execution_count": 58,
   "outputs": [
    {
     "data": {
      "text/plain": "    ProductType  Manufacturer  Area Code  Sourcing Channel  Product Size  \\\n0             0             0          0                 0             2   \n1             0             0          1                 0             1   \n2             0             0          1                 1             1   \n3             0             0          2                 0             1   \n4             0             0         11                 0             1   \n..          ...           ...        ...               ...           ...   \n91            2             0         37                 0             2   \n92            2             0         43                 0             1   \n93            2             0         43                 0             2   \n94            2             1         12                 0             1   \n95            2             2         14                 2             1   \n\n    Product Type  Month of Sourcing  Sourcing Cost  \n0              1                  0            103  \n1              1                  0            155  \n2              1                  0            143  \n3              1                  0            139  \n4              1                  0            169  \n..           ...                ...            ...  \n91             0                  0             89  \n92             1                  0            114  \n93             1                  0            111  \n94             1                  0             32  \n95             1                  0             40  \n\n[96 rows x 8 columns]",
      "text/html": "<div>\n<style scoped>\n    .dataframe tbody tr th:only-of-type {\n        vertical-align: middle;\n    }\n\n    .dataframe tbody tr th {\n        vertical-align: top;\n    }\n\n    .dataframe thead th {\n        text-align: right;\n    }\n</style>\n<table border=\"1\" class=\"dataframe\">\n  <thead>\n    <tr style=\"text-align: right;\">\n      <th></th>\n      <th>ProductType</th>\n      <th>Manufacturer</th>\n      <th>Area Code</th>\n      <th>Sourcing Channel</th>\n      <th>Product Size</th>\n      <th>Product Type</th>\n      <th>Month of Sourcing</th>\n      <th>Sourcing Cost</th>\n    </tr>\n  </thead>\n  <tbody>\n    <tr>\n      <th>0</th>\n      <td>0</td>\n      <td>0</td>\n      <td>0</td>\n      <td>0</td>\n      <td>2</td>\n      <td>1</td>\n      <td>0</td>\n      <td>103</td>\n    </tr>\n    <tr>\n      <th>1</th>\n      <td>0</td>\n      <td>0</td>\n      <td>1</td>\n      <td>0</td>\n      <td>1</td>\n      <td>1</td>\n      <td>0</td>\n      <td>155</td>\n    </tr>\n    <tr>\n      <th>2</th>\n      <td>0</td>\n      <td>0</td>\n      <td>1</td>\n      <td>1</td>\n      <td>1</td>\n      <td>1</td>\n      <td>0</td>\n      <td>143</td>\n    </tr>\n    <tr>\n      <th>3</th>\n      <td>0</td>\n      <td>0</td>\n      <td>2</td>\n      <td>0</td>\n      <td>1</td>\n      <td>1</td>\n      <td>0</td>\n      <td>139</td>\n    </tr>\n    <tr>\n      <th>4</th>\n      <td>0</td>\n      <td>0</td>\n      <td>11</td>\n      <td>0</td>\n      <td>1</td>\n      <td>1</td>\n      <td>0</td>\n      <td>169</td>\n    </tr>\n    <tr>\n      <th>...</th>\n      <td>...</td>\n      <td>...</td>\n      <td>...</td>\n      <td>...</td>\n      <td>...</td>\n      <td>...</td>\n      <td>...</td>\n      <td>...</td>\n    </tr>\n    <tr>\n      <th>91</th>\n      <td>2</td>\n      <td>0</td>\n      <td>37</td>\n      <td>0</td>\n      <td>2</td>\n      <td>0</td>\n      <td>0</td>\n      <td>89</td>\n    </tr>\n    <tr>\n      <th>92</th>\n      <td>2</td>\n      <td>0</td>\n      <td>43</td>\n      <td>0</td>\n      <td>1</td>\n      <td>1</td>\n      <td>0</td>\n      <td>114</td>\n    </tr>\n    <tr>\n      <th>93</th>\n      <td>2</td>\n      <td>0</td>\n      <td>43</td>\n      <td>0</td>\n      <td>2</td>\n      <td>1</td>\n      <td>0</td>\n      <td>111</td>\n    </tr>\n    <tr>\n      <th>94</th>\n      <td>2</td>\n      <td>1</td>\n      <td>12</td>\n      <td>0</td>\n      <td>1</td>\n      <td>1</td>\n      <td>0</td>\n      <td>32</td>\n    </tr>\n    <tr>\n      <th>95</th>\n      <td>2</td>\n      <td>2</td>\n      <td>14</td>\n      <td>2</td>\n      <td>1</td>\n      <td>1</td>\n      <td>0</td>\n      <td>40</td>\n    </tr>\n  </tbody>\n</table>\n<p>96 rows × 8 columns</p>\n</div>"
     },
     "execution_count": 58,
     "metadata": {},
     "output_type": "execute_result"
    }
   ],
   "source": [
    "test_data"
   ],
   "metadata": {
    "collapsed": false,
    "ExecuteTime": {
     "end_time": "2024-05-11T17:33:06.808238400Z",
     "start_time": "2024-05-11T17:33:06.613571900Z"
    }
   },
   "id": "95a9ff7bbf6d245b"
  },
  {
   "cell_type": "code",
   "execution_count": 59,
   "outputs": [],
   "source": [
    "X = train_data.drop(['Sourcing Cost'], axis=1)\n",
    "y = train_data['Sourcing Cost']\n",
    "\n"
   ],
   "metadata": {
    "collapsed": false,
    "ExecuteTime": {
     "end_time": "2024-05-11T17:33:06.852064200Z",
     "start_time": "2024-05-11T17:33:06.668015800Z"
    }
   },
   "id": "239e9f860293b1e3"
  },
  {
   "cell_type": "code",
   "execution_count": 60,
   "outputs": [
    {
     "data": {
      "text/plain": "((550176, 7), (550176,))"
     },
     "execution_count": 60,
     "metadata": {},
     "output_type": "execute_result"
    }
   ],
   "source": [
    "X.shape ,y.shape"
   ],
   "metadata": {
    "collapsed": false,
    "ExecuteTime": {
     "end_time": "2024-05-11T17:33:06.852064200Z",
     "start_time": "2024-05-11T17:33:06.691226600Z"
    }
   },
   "id": "8794138389594418"
  },
  {
   "cell_type": "code",
   "execution_count": 61,
   "outputs": [],
   "source": [
    "X_train, _, y_train, _ = train_test_split(X, y, test_size=0.000001, random_state=42)"
   ],
   "metadata": {
    "collapsed": false,
    "ExecuteTime": {
     "end_time": "2024-05-11T17:33:06.906071200Z",
     "start_time": "2024-05-11T17:33:06.709415700Z"
    }
   },
   "id": "cdc26d4ca23b12e4"
  },
  {
   "cell_type": "code",
   "execution_count": 62,
   "outputs": [],
   "source": [
    "x = test_data.drop(['Sourcing Cost'], axis=1)\n",
    "Y= test_data['Sourcing Cost']\n"
   ],
   "metadata": {
    "collapsed": false,
    "ExecuteTime": {
     "end_time": "2024-05-11T17:33:06.925043800Z",
     "start_time": "2024-05-11T17:33:06.799234100Z"
    }
   },
   "id": "b25bbef68577d30d"
  },
  {
   "cell_type": "code",
   "execution_count": 63,
   "outputs": [],
   "source": [
    "_, x_test, _, Y_test = train_test_split(x,Y, test_size=0.98, random_state=42)"
   ],
   "metadata": {
    "collapsed": false,
    "ExecuteTime": {
     "end_time": "2024-05-11T17:33:06.975666Z",
     "start_time": "2024-05-11T17:33:06.820425700Z"
    }
   },
   "id": "56930bedbb19a488"
  },
  {
   "cell_type": "code",
   "execution_count": 64,
   "outputs": [
    {
     "data": {
      "text/plain": "RandomForestRegressor(random_state=42)",
      "text/html": "<style>#sk-container-id-3 {color: black;}#sk-container-id-3 pre{padding: 0;}#sk-container-id-3 div.sk-toggleable {background-color: white;}#sk-container-id-3 label.sk-toggleable__label {cursor: pointer;display: block;width: 100%;margin-bottom: 0;padding: 0.3em;box-sizing: border-box;text-align: center;}#sk-container-id-3 label.sk-toggleable__label-arrow:before {content: \"▸\";float: left;margin-right: 0.25em;color: #696969;}#sk-container-id-3 label.sk-toggleable__label-arrow:hover:before {color: black;}#sk-container-id-3 div.sk-estimator:hover label.sk-toggleable__label-arrow:before {color: black;}#sk-container-id-3 div.sk-toggleable__content {max-height: 0;max-width: 0;overflow: hidden;text-align: left;background-color: #f0f8ff;}#sk-container-id-3 div.sk-toggleable__content pre {margin: 0.2em;color: black;border-radius: 0.25em;background-color: #f0f8ff;}#sk-container-id-3 input.sk-toggleable__control:checked~div.sk-toggleable__content {max-height: 200px;max-width: 100%;overflow: auto;}#sk-container-id-3 input.sk-toggleable__control:checked~label.sk-toggleable__label-arrow:before {content: \"▾\";}#sk-container-id-3 div.sk-estimator input.sk-toggleable__control:checked~label.sk-toggleable__label {background-color: #d4ebff;}#sk-container-id-3 div.sk-label input.sk-toggleable__control:checked~label.sk-toggleable__label {background-color: #d4ebff;}#sk-container-id-3 input.sk-hidden--visually {border: 0;clip: rect(1px 1px 1px 1px);clip: rect(1px, 1px, 1px, 1px);height: 1px;margin: -1px;overflow: hidden;padding: 0;position: absolute;width: 1px;}#sk-container-id-3 div.sk-estimator {font-family: monospace;background-color: #f0f8ff;border: 1px dotted black;border-radius: 0.25em;box-sizing: border-box;margin-bottom: 0.5em;}#sk-container-id-3 div.sk-estimator:hover {background-color: #d4ebff;}#sk-container-id-3 div.sk-parallel-item::after {content: \"\";width: 100%;border-bottom: 1px solid gray;flex-grow: 1;}#sk-container-id-3 div.sk-label:hover label.sk-toggleable__label {background-color: #d4ebff;}#sk-container-id-3 div.sk-serial::before {content: \"\";position: absolute;border-left: 1px solid gray;box-sizing: border-box;top: 0;bottom: 0;left: 50%;z-index: 0;}#sk-container-id-3 div.sk-serial {display: flex;flex-direction: column;align-items: center;background-color: white;padding-right: 0.2em;padding-left: 0.2em;position: relative;}#sk-container-id-3 div.sk-item {position: relative;z-index: 1;}#sk-container-id-3 div.sk-parallel {display: flex;align-items: stretch;justify-content: center;background-color: white;position: relative;}#sk-container-id-3 div.sk-item::before, #sk-container-id-3 div.sk-parallel-item::before {content: \"\";position: absolute;border-left: 1px solid gray;box-sizing: border-box;top: 0;bottom: 0;left: 50%;z-index: -1;}#sk-container-id-3 div.sk-parallel-item {display: flex;flex-direction: column;z-index: 1;position: relative;background-color: white;}#sk-container-id-3 div.sk-parallel-item:first-child::after {align-self: flex-end;width: 50%;}#sk-container-id-3 div.sk-parallel-item:last-child::after {align-self: flex-start;width: 50%;}#sk-container-id-3 div.sk-parallel-item:only-child::after {width: 0;}#sk-container-id-3 div.sk-dashed-wrapped {border: 1px dashed gray;margin: 0 0.4em 0.5em 0.4em;box-sizing: border-box;padding-bottom: 0.4em;background-color: white;}#sk-container-id-3 div.sk-label label {font-family: monospace;font-weight: bold;display: inline-block;line-height: 1.2em;}#sk-container-id-3 div.sk-label-container {text-align: center;}#sk-container-id-3 div.sk-container {/* jupyter's `normalize.less` sets `[hidden] { display: none; }` but bootstrap.min.css set `[hidden] { display: none !important; }` so we also need the `!important` here to be able to override the default hidden behavior on the sphinx rendered scikit-learn.org. See: https://github.com/scikit-learn/scikit-learn/issues/21755 */display: inline-block !important;position: relative;}#sk-container-id-3 div.sk-text-repr-fallback {display: none;}</style><div id=\"sk-container-id-3\" class=\"sk-top-container\"><div class=\"sk-text-repr-fallback\"><pre>RandomForestRegressor(random_state=42)</pre><b>In a Jupyter environment, please rerun this cell to show the HTML representation or trust the notebook. <br />On GitHub, the HTML representation is unable to render, please try loading this page with nbviewer.org.</b></div><div class=\"sk-container\" hidden><div class=\"sk-item\"><div class=\"sk-estimator sk-toggleable\"><input class=\"sk-toggleable__control sk-hidden--visually\" id=\"sk-estimator-id-3\" type=\"checkbox\" checked><label for=\"sk-estimator-id-3\" class=\"sk-toggleable__label sk-toggleable__label-arrow\">RandomForestRegressor</label><div class=\"sk-toggleable__content\"><pre>RandomForestRegressor(random_state=42)</pre></div></div></div></div></div>"
     },
     "execution_count": 64,
     "metadata": {},
     "output_type": "execute_result"
    }
   ],
   "source": [
    "model = RandomForestRegressor(n_estimators=100, random_state=42)\n",
    "model.fit(X_train, y_train)"
   ],
   "metadata": {
    "collapsed": false,
    "ExecuteTime": {
     "end_time": "2024-05-11T17:34:02.691893200Z",
     "start_time": "2024-05-11T17:33:06.845067300Z"
    }
   },
   "id": "9734771d1007ed42"
  },
  {
   "cell_type": "code",
   "execution_count": 65,
   "outputs": [],
   "source": [
    "y_pred = model.predict(x_test)\n"
   ],
   "metadata": {
    "collapsed": false,
    "ExecuteTime": {
     "end_time": "2024-05-11T17:34:02.733402600Z",
     "start_time": "2024-05-11T17:34:02.695906700Z"
    }
   },
   "id": "6407c6c0880d2f98"
  },
  {
   "cell_type": "code",
   "execution_count": 66,
   "outputs": [
    {
     "data": {
      "text/plain": "array([ 29.05331795, 138.80758344,  56.83060816,  57.40378382,\n        26.        ,  34.54417894, 153.26491086, 174.24821053,\n        92.73107099, 149.05187858, 143.5165537 , 177.45805826,\n       139.76039153, 166.6548554 , 165.99620859,  30.01924176,\n        94.11530519, 150.26276076,  32.8450974 , 128.93846393,\n        48.5187509 , 141.22768774, 151.13374173, 141.4764668 ,\n        14.09903477, 138.93275002, 116.24234184, 133.        ,\n        38.43932952, 172.39996277,  24.        ,  77.58847726,\n       148.69260024, 172.72017546,  16.03296542,  56.        ,\n       149.        , 164.75163872, 218.966346  ,  67.56037783,\n        56.        ,  57.67440037,  30.78966627, 149.4242294 ,\n        81.39742032,  24.32117954,  65.46961376, 143.        ,\n        79.59803846, 146.68914647, 140.46395163, 146.31612645,\n       149.116515  ,  60.27595722,  46.80060451, 149.11298981,\n       152.13336255,   5.12078455, 180.        ,  51.10093808,\n       184.63013944, 172.49317192,  56.        , 142.31764632,\n       208.3283804 , 143.81259084, 149.11119344,  93.72531842,\n        26.        ,  55.40365514, 294.77089414, 107.60188278,\n       106.11118865, 210.55360159,  26.54789655,  54.02558439,\n       143.        , 143.45135747,  26.27867094, 144.31312788,\n       227.40889561, 152.12590559,  13.88050254, 146.29019071,\n       149.4241746 ,  48.30504732,  18.4978439 ,  62.78748918,\n        64.42714011, 156.84518517, 151.16479294, 149.11298981,\n       106.13582478, 143.        , 125.6064513 ])"
     },
     "execution_count": 66,
     "metadata": {},
     "output_type": "execute_result"
    }
   ],
   "source": [
    "y_pred"
   ],
   "metadata": {
    "collapsed": false,
    "ExecuteTime": {
     "end_time": "2024-05-11T17:34:02.751403700Z",
     "start_time": "2024-05-11T17:34:02.723401400Z"
    }
   },
   "id": "f2bdea55a903802c"
  },
  {
   "cell_type": "code",
   "execution_count": 67,
   "outputs": [
    {
     "name": "stdout",
     "output_type": "stream",
     "text": [
      "Mean Squared Error on Validation Set: 1976.4762057658295\n"
     ]
    }
   ],
   "source": [
    "mse = mean_squared_error(Y_test, y_pred)\n",
    "print(\"Mean Squared Error on Validation Set:\", mse)"
   ],
   "metadata": {
    "collapsed": false,
    "ExecuteTime": {
     "end_time": "2024-05-11T17:34:02.830003700Z",
     "start_time": "2024-05-11T17:34:02.751403700Z"
    }
   },
   "id": "d3650404cb1e7d08"
  },
  {
   "cell_type": "code",
   "execution_count": 68,
   "outputs": [
    {
     "name": "stdout",
     "output_type": "stream",
     "text": [
      "Mean absolute Error on Validation Set: 21.656997920367566\n"
     ]
    }
   ],
   "source": [
    "mae = mean_absolute_error(Y_test,y_pred)\n",
    "print(\"Mean absolute Error on Validation Set:\", mae)"
   ],
   "metadata": {
    "collapsed": false,
    "ExecuteTime": {
     "end_time": "2024-05-11T17:34:02.830003700Z",
     "start_time": "2024-05-11T17:34:02.775461200Z"
    }
   },
   "id": "4044b958d60009e8"
  },
  {
   "cell_type": "code",
   "execution_count": 69,
   "outputs": [
    {
     "name": "stdout",
     "output_type": "stream",
     "text": [
      "Root Mean Squared Error on Validation Set: 34.45734367709893\n"
     ]
    }
   ],
   "source": [
    "# Convert data to LightGBM Dataset format\n",
    "train_data = lgb.Dataset(X_train, label=y_train)\n",
    "val_data = lgb.Dataset(x_test, label= Y_test, reference=train_data)\n",
    "\n",
    "# Define LightGBM parameters\n",
    "params = {\n",
    "    'objective': 'regression',\n",
    "    'metric': 'rmse',\n",
    "    'num_leaves': 31,\n",
    "    'learning_rate': 0.05,\n",
    "    'early_stopping_rounds': 10,  # Specify early stopping rounds here\n",
    "    'verbose': -1\n",
    "}\n",
    "\n",
    "# Train the LightGBM model\n",
    "num_rounds = 200\n",
    "model01 = lgb.train(params, train_data, num_rounds, valid_sets=[val_data])\n",
    "\n",
    "# Predict on validation set\n",
    "y_pred01 = model01.predict(x_test, num_iteration=model01.best_iteration)\n",
    "\n",
    "# Calculate Root Mean Squared Error (RMSE)\n",
    "rmse = mean_squared_error(Y_test, y_pred01) ** 0.5\n",
    "print(\"Root Mean Squared Error on Validation Set:\", rmse)\n"
   ],
   "metadata": {
    "collapsed": false,
    "ExecuteTime": {
     "end_time": "2024-05-11T17:34:03.344934700Z",
     "start_time": "2024-05-11T17:34:02.794484600Z"
    }
   },
   "id": "c19aff89384fd91d"
  },
  {
   "cell_type": "code",
   "execution_count": 70,
   "outputs": [
    {
     "name": "stdout",
     "output_type": "stream",
     "text": [
      "Mean Squared Error on Validation Set: 1187.30853328171\n"
     ]
    }
   ],
   "source": [
    "mse = mean_squared_error(Y_test, y_pred01)\n",
    "print(\"Mean Squared Error on Validation Set:\", mse)"
   ],
   "metadata": {
    "collapsed": false,
    "ExecuteTime": {
     "end_time": "2024-05-11T17:34:03.361934200Z",
     "start_time": "2024-05-11T17:34:03.343936900Z"
    }
   },
   "id": "ee78a754b0c3ed71"
  },
  {
   "cell_type": "code",
   "execution_count": 71,
   "outputs": [
    {
     "name": "stdout",
     "output_type": "stream",
     "text": [
      "Mean absolute Error on Validation Set: 23.143621165493176\n"
     ]
    }
   ],
   "source": [
    "mae = mean_absolute_error(Y_test,y_pred01)\n",
    "print(\"Mean absolute Error on Validation Set:\", mae)"
   ],
   "metadata": {
    "collapsed": false,
    "ExecuteTime": {
     "end_time": "2024-05-11T17:34:03.418971700Z",
     "start_time": "2024-05-11T17:34:03.359939600Z"
    }
   },
   "id": "bcdf2986270c9dd6"
  },
  {
   "cell_type": "code",
   "execution_count": 72,
   "outputs": [
    {
     "name": "stdout",
     "output_type": "stream",
     "text": [
      "Root Mean Squared Error on Validation Set (Decision Tree): 44.665517663292576\n"
     ]
    }
   ],
   "source": [
    "from sklearn.tree import DecisionTreeRegressor\n",
    "\n",
    "# Train the Decision Tree model\n",
    "model_dt = DecisionTreeRegressor()\n",
    "model_dt.fit(X_train, y_train)\n",
    "\n",
    "# Predict on validation set\n",
    "y_pred_dt = model_dt.predict(x_test)\n",
    "\n",
    "# Calculate Root Mean Squared Error (RMSE)\n",
    "rmse_dt = mean_squared_error(Y_test, y_pred_dt) ** 0.5\n",
    "print(\"Root Mean Squared Error on Validation Set (Decision Tree):\", rmse_dt)\n"
   ],
   "metadata": {
    "collapsed": false,
    "ExecuteTime": {
     "end_time": "2024-05-11T17:34:04.034172300Z",
     "start_time": "2024-05-11T17:34:03.374936600Z"
    }
   },
   "id": "f96d9c253c2bce86"
  },
  {
   "cell_type": "code",
   "execution_count": 73,
   "outputs": [
    {
     "name": "stdout",
     "output_type": "stream",
     "text": [
      "Mean Squared Error on Validation Set: 1995.0084681299013\n"
     ]
    }
   ],
   "source": [
    "mse = mean_squared_error(Y_test, y_pred_dt)\n",
    "print(\"Mean Squared Error on Validation Set:\", mse)"
   ],
   "metadata": {
    "collapsed": false,
    "ExecuteTime": {
     "end_time": "2024-05-11T17:34:04.090224200Z",
     "start_time": "2024-05-11T17:34:04.037167700Z"
    }
   },
   "id": "b494b8c0fbadb621"
  },
  {
   "cell_type": "code",
   "execution_count": 73,
   "outputs": [],
   "source": [],
   "metadata": {
    "collapsed": false,
    "ExecuteTime": {
     "end_time": "2024-05-11T17:34:04.091214100Z",
     "start_time": "2024-05-11T17:34:04.050417800Z"
    }
   },
   "id": "4bdf1123f9b58e72"
  },
  {
   "cell_type": "code",
   "execution_count": 74,
   "outputs": [],
   "source": [
    "test_source= test_data['Sourcing Cost']"
   ],
   "metadata": {
    "collapsed": false,
    "ExecuteTime": {
     "end_time": "2024-05-11T17:34:04.091214100Z",
     "start_time": "2024-05-11T17:34:04.067423400Z"
    }
   },
   "id": "8363add2aaf4ebeb"
  },
  {
   "cell_type": "code",
   "execution_count": 75,
   "outputs": [],
   "source": [
    "test_data.drop(['Sourcing Cost'], axis=1,inplace=True)"
   ],
   "metadata": {
    "collapsed": false,
    "ExecuteTime": {
     "end_time": "2024-05-11T17:34:04.140086200Z",
     "start_time": "2024-05-11T17:34:04.080216200Z"
    }
   },
   "id": "d596276c3b921669"
  },
  {
   "cell_type": "code",
   "execution_count": 76,
   "outputs": [
    {
     "name": "stdout",
     "output_type": "stream",
     "text": [
      "Test Predictions:\n",
      "[107.57698674 138.89181299 138.89181299 138.89181299 151.08214735\n",
      " 145.03298411  83.19559528  99.59997783 135.50358451 135.50358451\n",
      " 136.18330931 135.50358451 109.45998577 138.58359536 138.58359536\n",
      " 138.58359536 138.58359536 138.58359536 138.51128202 138.58359536\n",
      " 138.58359536 138.58359536 138.58359536  42.9560056   78.24850889\n",
      "  51.73460045  40.70649744  40.70649744  40.70649744 185.40086164\n",
      " 156.80944122 156.80944122  40.70649744  46.23723144  60.00205232\n",
      " 132.98265875 138.89181299 138.89181299 132.98265875 117.04099531\n",
      " 115.06862028 122.26098329 151.08214735 151.08214735 131.33515381\n",
      "  74.89938293 179.85289613 179.85289613  99.73677293  87.36720916\n",
      "  97.41192772 136.18330931 152.02002165  99.92362366 167.92505428\n",
      " 145.56817701 167.92505428 170.76029633 166.9106263  138.58359536\n",
      " 138.51128202 138.58359536 138.51128202 138.58359536 138.58359536\n",
      " 138.58359536 138.51128202 138.58359536 138.51128202 138.58359536\n",
      " 138.58359536  88.76895728  78.24850889  64.91583664  51.73460045\n",
      "  59.23620141  47.95295178 128.35243794  89.34160576  46.44319879\n",
      "  37.16116514  46.44319879 142.25435445  98.81496723  47.72456809\n",
      " 124.20969451  77.25303991  44.3314601   45.04106584 105.09867886\n",
      "  71.16603642  77.46321821 112.64628103  91.91619273  64.96052485\n",
      "  64.29108913]\n"
     ]
    }
   ],
   "source": [
    "# Load the test dataset\n",
    "\n",
    "# Make predictions on the test data (assuming model is already trained)\n",
    "test_predictions = model01.predict(test_data)\n",
    "\n",
    "# Print test predictions\n",
    "print(\"Test Predictions:\")\n",
    "print(test_predictions)"
   ],
   "metadata": {
    "collapsed": false,
    "ExecuteTime": {
     "end_time": "2024-05-11T17:34:04.151085800Z",
     "start_time": "2024-05-11T17:34:04.096554600Z"
    }
   },
   "id": "9e5c70421dcd1c4b"
  },
  {
   "cell_type": "code",
   "execution_count": 77,
   "outputs": [
    {
     "name": "stdout",
     "output_type": "stream",
     "text": [
      "Root Mean Squared Error (RMSE): 34.29518179522641\n"
     ]
    }
   ],
   "source": [
    "import numpy as np\n",
    "\n",
    "# Assuming original values are stored in 'original_values'\n",
    "original_values = test_source  # Replace [...] with your original values\n",
    "\n",
    "# Calculate Mean Squared Error (MSE)\n",
    "rmse = np.sqrt(np.mean((test_predictions - original_values) ** 2))\n",
    "print(\"Root Mean Squared Error (RMSE):\", rmse)"
   ],
   "metadata": {
    "collapsed": false,
    "ExecuteTime": {
     "end_time": "2024-05-11T17:34:04.181118300Z",
     "start_time": "2024-05-11T17:34:04.118087800Z"
    }
   },
   "id": "19bc6fb1c98d5687"
  },
  {
   "cell_type": "code",
   "execution_count": 80,
   "outputs": [
    {
     "name": "stdout",
     "output_type": "stream",
     "text": [
      "Test Predictions:\n",
      "[134.7538937]\n"
     ]
    }
   ],
   "source": [
    "# Take input from the user\n",
    "user_input = {}\n",
    "user_input['ProductType'] = input(\"Enter Product Type: \")\n",
    "user_input['Manufacturer'] = input(\"Enter Manufacturer: \")\n",
    "user_input['Area Code'] = input(\"Enter Area Code: \")\n",
    "user_input['Sourcing Channel'] = input(\"Enter Sourcing Channel: \")\n",
    "user_input['Product Size'] = input(\"Enter Product Size: \")\n",
    "user_input['Product Type'] = input(\"Enter Product Type: \")\n",
    "user_input['Month of Sourcing'] = input(\"Enter Month of Sourcing (in format YYYY-MM-DD or MM-YYYY): \")\n",
    "\n",
    "# Create a DataFrame from user input\n",
    "user_df = pd.DataFrame([user_input])\n",
    "\n",
    "# Preprocess the user input\n",
    "user_df_preprocessed = preprocess_data_test(user_df)\n",
    "\n",
    "# Drop 'Sourcing Cost' column\n",
    "# user_df_preprocessed = user_df_preprocessed.drop('Sourcing Cost', axis=1)\n",
    "\n",
    "# Make predictions on the preprocessed user data\n",
    "test_predictions = model01.predict(user_df_preprocessed)\n",
    "\n",
    "# Print test predictions\n",
    "print(\"Test Predictions:\")\n",
    "print(test_predictions)\n",
    "\n",
    "\n"
   ],
   "metadata": {
    "collapsed": false,
    "ExecuteTime": {
     "end_time": "2024-05-11T17:38:14.127262800Z",
     "start_time": "2024-05-11T17:37:19.799522100Z"
    }
   },
   "id": "8396c483611069ad"
  },
  {
   "cell_type": "code",
   "execution_count": 82,
   "outputs": [
    {
     "data": {
      "text/plain": "{'ProductType': 'NTM1',\n 'Manufacturer': 'X1',\n 'Area Code': 'A1',\n 'Sourcing Channel': 'DIRECT',\n 'Product Size': 'Small',\n 'Product Type': 'Powder',\n 'Month of Sourcing': '01-06-2021'}"
     },
     "execution_count": 82,
     "metadata": {},
     "output_type": "execute_result"
    }
   ],
   "source": [
    "user_input"
   ],
   "metadata": {
    "collapsed": false,
    "ExecuteTime": {
     "end_time": "2024-05-11T17:44:30.758222Z",
     "start_time": "2024-05-11T17:44:30.733207700Z"
    }
   },
   "id": "321fdb626650dafc"
  },
  {
   "cell_type": "code",
   "execution_count": 83,
   "outputs": [
    {
     "data": {
      "text/plain": "   ProductType  Manufacturer  Area Code  Sourcing Channel  Product Size  \\\n0            0             0          0                 0             0   \n\n   Product Type  Month of Sourcing  \n0             0                  0  ",
      "text/html": "<div>\n<style scoped>\n    .dataframe tbody tr th:only-of-type {\n        vertical-align: middle;\n    }\n\n    .dataframe tbody tr th {\n        vertical-align: top;\n    }\n\n    .dataframe thead th {\n        text-align: right;\n    }\n</style>\n<table border=\"1\" class=\"dataframe\">\n  <thead>\n    <tr style=\"text-align: right;\">\n      <th></th>\n      <th>ProductType</th>\n      <th>Manufacturer</th>\n      <th>Area Code</th>\n      <th>Sourcing Channel</th>\n      <th>Product Size</th>\n      <th>Product Type</th>\n      <th>Month of Sourcing</th>\n    </tr>\n  </thead>\n  <tbody>\n    <tr>\n      <th>0</th>\n      <td>0</td>\n      <td>0</td>\n      <td>0</td>\n      <td>0</td>\n      <td>0</td>\n      <td>0</td>\n      <td>0</td>\n    </tr>\n  </tbody>\n</table>\n</div>"
     },
     "execution_count": 83,
     "metadata": {},
     "output_type": "execute_result"
    }
   ],
   "source": [
    "user_df_preprocessed"
   ],
   "metadata": {
    "collapsed": false,
    "ExecuteTime": {
     "end_time": "2024-05-11T18:06:08.021339800Z",
     "start_time": "2024-05-11T18:06:07.909441100Z"
    }
   },
   "id": "32d6848c67bd0dab"
  },
  {
   "cell_type": "code",
   "execution_count": null,
   "outputs": [],
   "source": [],
   "metadata": {
    "collapsed": false
   },
   "id": "dac6b0aa5817236a"
  }
 ],
 "metadata": {
  "kernelspec": {
   "display_name": "Python 3.9 (tensorflow)",
   "language": "python",
   "name": "tensorflow"
  },
  "language_info": {
   "codemirror_mode": {
    "name": "ipython",
    "version": 3
   },
   "file_extension": ".py",
   "mimetype": "text/x-python",
   "name": "python",
   "nbconvert_exporter": "python",
   "pygments_lexer": "ipython3",
   "version": "3.9.18"
  }
 },
 "nbformat": 4,
 "nbformat_minor": 5
}
