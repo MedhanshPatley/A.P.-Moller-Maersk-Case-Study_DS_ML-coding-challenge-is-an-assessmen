{
 "cells": [
  {
   "cell_type": "code",
   "execution_count": 21,
   "id": "initial_id",
   "metadata": {
    "collapsed": true,
    "ExecuteTime": {
     "end_time": "2024-05-11T12:44:08.909013200Z",
     "start_time": "2024-05-11T12:44:08.866372400Z"
    }
   },
   "outputs": [],
   "source": [
    "import pandas as pd\n",
    "import matplotlib.pyplot as plt\n",
    "import seaborn as sns\n",
    "from sklearn.preprocessing import LabelEncoder\n",
    "from sklearn.metrics import mean_absolute_error"
   ]
  },
  {
   "cell_type": "code",
   "execution_count": 2,
   "id": "d7c0bdb90944eb8b",
   "metadata": {
    "ExecuteTime": {
     "end_time": "2024-05-11T12:38:03.934741400Z",
     "start_time": "2024-05-11T12:38:03.546990Z"
    }
   },
   "outputs": [],
   "source": [
    "# Load the dataset\n",
    "data = pd.read_csv('DS_ML Coding Challenge Dataset (1).xlsx - Training Dataset.csv') \n",
    "data_test = pd.read_csv('DS_ML Coding Challenge Dataset (1).xlsx - Test Dataset.csv')"
   ]
  },
  {
   "cell_type": "code",
   "execution_count": 3,
   "id": "f65759357d786913",
   "metadata": {
    "ExecuteTime": {
     "end_time": "2024-05-11T12:38:04.053978800Z",
     "start_time": "2024-05-11T12:38:03.935741800Z"
    }
   },
   "outputs": [
    {
     "data": {
      "text/plain": "       ProductType Manufacturer Area Code Sourcing Channel Product Size  \\\n0             NTM3           X1       A28        WHOLESALE        Large   \n1             NTM2           X1        A9           DIRECT        Large   \n2             NTM3           X2       A20           DIRECT        Large   \n3             NTM3           X1       A18        WHOLESALE        Small   \n4             NTM2           X1       A28           DIRECT        Large   \n...            ...          ...       ...              ...          ...   \n550171        NTM2           X1        A5           DIRECT        Large   \n550172        NTM3           X1       A14           DIRECT        Large   \n550173        NTM2           X1        A5           DIRECT        Small   \n550174        NTM2           X1        A7           DIRECT        Small   \n550175        NTM1           X1        A3           DIRECT        Small   \n\n       Product Type Month of Sourcing  Sourcing Cost  \n0            Powder            May-21          10.16  \n1            Powder            Oct-20         134.28  \n2            Powder            Dec-20          12.46  \n3            Powder            Feb-21         107.22  \n4            Liquid            Nov-20         197.76  \n...             ...               ...            ...  \n550171       Powder            Jul-20         136.47  \n550172       Liquid            Oct-20          72.56  \n550173       Powder            Mar-21         147.64  \n550174       Powder            Feb-21         150.04  \n550175       Powder            Nov-20         139.42  \n\n[550176 rows x 8 columns]",
      "text/html": "<div>\n<style scoped>\n    .dataframe tbody tr th:only-of-type {\n        vertical-align: middle;\n    }\n\n    .dataframe tbody tr th {\n        vertical-align: top;\n    }\n\n    .dataframe thead th {\n        text-align: right;\n    }\n</style>\n<table border=\"1\" class=\"dataframe\">\n  <thead>\n    <tr style=\"text-align: right;\">\n      <th></th>\n      <th>ProductType</th>\n      <th>Manufacturer</th>\n      <th>Area Code</th>\n      <th>Sourcing Channel</th>\n      <th>Product Size</th>\n      <th>Product Type</th>\n      <th>Month of Sourcing</th>\n      <th>Sourcing Cost</th>\n    </tr>\n  </thead>\n  <tbody>\n    <tr>\n      <th>0</th>\n      <td>NTM3</td>\n      <td>X1</td>\n      <td>A28</td>\n      <td>WHOLESALE</td>\n      <td>Large</td>\n      <td>Powder</td>\n      <td>May-21</td>\n      <td>10.16</td>\n    </tr>\n    <tr>\n      <th>1</th>\n      <td>NTM2</td>\n      <td>X1</td>\n      <td>A9</td>\n      <td>DIRECT</td>\n      <td>Large</td>\n      <td>Powder</td>\n      <td>Oct-20</td>\n      <td>134.28</td>\n    </tr>\n    <tr>\n      <th>2</th>\n      <td>NTM3</td>\n      <td>X2</td>\n      <td>A20</td>\n      <td>DIRECT</td>\n      <td>Large</td>\n      <td>Powder</td>\n      <td>Dec-20</td>\n      <td>12.46</td>\n    </tr>\n    <tr>\n      <th>3</th>\n      <td>NTM3</td>\n      <td>X1</td>\n      <td>A18</td>\n      <td>WHOLESALE</td>\n      <td>Small</td>\n      <td>Powder</td>\n      <td>Feb-21</td>\n      <td>107.22</td>\n    </tr>\n    <tr>\n      <th>4</th>\n      <td>NTM2</td>\n      <td>X1</td>\n      <td>A28</td>\n      <td>DIRECT</td>\n      <td>Large</td>\n      <td>Liquid</td>\n      <td>Nov-20</td>\n      <td>197.76</td>\n    </tr>\n    <tr>\n      <th>...</th>\n      <td>...</td>\n      <td>...</td>\n      <td>...</td>\n      <td>...</td>\n      <td>...</td>\n      <td>...</td>\n      <td>...</td>\n      <td>...</td>\n    </tr>\n    <tr>\n      <th>550171</th>\n      <td>NTM2</td>\n      <td>X1</td>\n      <td>A5</td>\n      <td>DIRECT</td>\n      <td>Large</td>\n      <td>Powder</td>\n      <td>Jul-20</td>\n      <td>136.47</td>\n    </tr>\n    <tr>\n      <th>550172</th>\n      <td>NTM3</td>\n      <td>X1</td>\n      <td>A14</td>\n      <td>DIRECT</td>\n      <td>Large</td>\n      <td>Liquid</td>\n      <td>Oct-20</td>\n      <td>72.56</td>\n    </tr>\n    <tr>\n      <th>550173</th>\n      <td>NTM2</td>\n      <td>X1</td>\n      <td>A5</td>\n      <td>DIRECT</td>\n      <td>Small</td>\n      <td>Powder</td>\n      <td>Mar-21</td>\n      <td>147.64</td>\n    </tr>\n    <tr>\n      <th>550174</th>\n      <td>NTM2</td>\n      <td>X1</td>\n      <td>A7</td>\n      <td>DIRECT</td>\n      <td>Small</td>\n      <td>Powder</td>\n      <td>Feb-21</td>\n      <td>150.04</td>\n    </tr>\n    <tr>\n      <th>550175</th>\n      <td>NTM1</td>\n      <td>X1</td>\n      <td>A3</td>\n      <td>DIRECT</td>\n      <td>Small</td>\n      <td>Powder</td>\n      <td>Nov-20</td>\n      <td>139.42</td>\n    </tr>\n  </tbody>\n</table>\n<p>550176 rows × 8 columns</p>\n</div>"
     },
     "execution_count": 3,
     "metadata": {},
     "output_type": "execute_result"
    }
   ],
   "source": [
    "data"
   ]
  },
  {
   "cell_type": "code",
   "execution_count": 4,
   "outputs": [],
   "source": [
    "# data_test.drop(['Sourcing Cost'],axis=1,inplace=True)"
   ],
   "metadata": {
    "collapsed": false,
    "ExecuteTime": {
     "end_time": "2024-05-11T12:38:04.085273600Z",
     "start_time": "2024-05-11T12:38:03.969323500Z"
    }
   },
   "id": "88778a1c352cd9e1"
  },
  {
   "cell_type": "code",
   "execution_count": 5,
   "outputs": [
    {
     "data": {
      "text/plain": "   ProductType Manufacturer Area Code Sourcing Channel Product Size  \\\n0         NTM1           X1        A1           DIRECT        Small   \n1         NTM1           X1       A10           DIRECT        Large   \n2         NTM1           X1       A10             ECOM        Large   \n3         NTM1           X1       A11           DIRECT        Large   \n4         NTM1           X1        A2           DIRECT        Large   \n..         ...          ...       ...              ...          ...   \n91        NTM3           X1       A44           DIRECT        Small   \n92        NTM3           X1        A8           DIRECT        Large   \n93        NTM3           X1        A8           DIRECT        Small   \n94        NTM3           X2       A20           DIRECT        Large   \n95        NTM3           X3       A22           RETAIL        Large   \n\n   Product Type Month of Sourcing  Sourcing Cost  \n0        Powder            Jun-21         103.68  \n1        Powder            Jun-21         155.75  \n2        Powder            Jun-21         143.02  \n3        Powder            Jun-21         139.39  \n4        Powder            Jun-21         169.42  \n..          ...               ...            ...  \n91       Liquid            Jun-21          89.57  \n92       Powder            Jun-21         114.57  \n93       Powder            Jun-21         111.26  \n94       Powder            Jun-21          32.32  \n95       Powder            Jun-21          40.73  \n\n[96 rows x 8 columns]",
      "text/html": "<div>\n<style scoped>\n    .dataframe tbody tr th:only-of-type {\n        vertical-align: middle;\n    }\n\n    .dataframe tbody tr th {\n        vertical-align: top;\n    }\n\n    .dataframe thead th {\n        text-align: right;\n    }\n</style>\n<table border=\"1\" class=\"dataframe\">\n  <thead>\n    <tr style=\"text-align: right;\">\n      <th></th>\n      <th>ProductType</th>\n      <th>Manufacturer</th>\n      <th>Area Code</th>\n      <th>Sourcing Channel</th>\n      <th>Product Size</th>\n      <th>Product Type</th>\n      <th>Month of Sourcing</th>\n      <th>Sourcing Cost</th>\n    </tr>\n  </thead>\n  <tbody>\n    <tr>\n      <th>0</th>\n      <td>NTM1</td>\n      <td>X1</td>\n      <td>A1</td>\n      <td>DIRECT</td>\n      <td>Small</td>\n      <td>Powder</td>\n      <td>Jun-21</td>\n      <td>103.68</td>\n    </tr>\n    <tr>\n      <th>1</th>\n      <td>NTM1</td>\n      <td>X1</td>\n      <td>A10</td>\n      <td>DIRECT</td>\n      <td>Large</td>\n      <td>Powder</td>\n      <td>Jun-21</td>\n      <td>155.75</td>\n    </tr>\n    <tr>\n      <th>2</th>\n      <td>NTM1</td>\n      <td>X1</td>\n      <td>A10</td>\n      <td>ECOM</td>\n      <td>Large</td>\n      <td>Powder</td>\n      <td>Jun-21</td>\n      <td>143.02</td>\n    </tr>\n    <tr>\n      <th>3</th>\n      <td>NTM1</td>\n      <td>X1</td>\n      <td>A11</td>\n      <td>DIRECT</td>\n      <td>Large</td>\n      <td>Powder</td>\n      <td>Jun-21</td>\n      <td>139.39</td>\n    </tr>\n    <tr>\n      <th>4</th>\n      <td>NTM1</td>\n      <td>X1</td>\n      <td>A2</td>\n      <td>DIRECT</td>\n      <td>Large</td>\n      <td>Powder</td>\n      <td>Jun-21</td>\n      <td>169.42</td>\n    </tr>\n    <tr>\n      <th>...</th>\n      <td>...</td>\n      <td>...</td>\n      <td>...</td>\n      <td>...</td>\n      <td>...</td>\n      <td>...</td>\n      <td>...</td>\n      <td>...</td>\n    </tr>\n    <tr>\n      <th>91</th>\n      <td>NTM3</td>\n      <td>X1</td>\n      <td>A44</td>\n      <td>DIRECT</td>\n      <td>Small</td>\n      <td>Liquid</td>\n      <td>Jun-21</td>\n      <td>89.57</td>\n    </tr>\n    <tr>\n      <th>92</th>\n      <td>NTM3</td>\n      <td>X1</td>\n      <td>A8</td>\n      <td>DIRECT</td>\n      <td>Large</td>\n      <td>Powder</td>\n      <td>Jun-21</td>\n      <td>114.57</td>\n    </tr>\n    <tr>\n      <th>93</th>\n      <td>NTM3</td>\n      <td>X1</td>\n      <td>A8</td>\n      <td>DIRECT</td>\n      <td>Small</td>\n      <td>Powder</td>\n      <td>Jun-21</td>\n      <td>111.26</td>\n    </tr>\n    <tr>\n      <th>94</th>\n      <td>NTM3</td>\n      <td>X2</td>\n      <td>A20</td>\n      <td>DIRECT</td>\n      <td>Large</td>\n      <td>Powder</td>\n      <td>Jun-21</td>\n      <td>32.32</td>\n    </tr>\n    <tr>\n      <th>95</th>\n      <td>NTM3</td>\n      <td>X3</td>\n      <td>A22</td>\n      <td>RETAIL</td>\n      <td>Large</td>\n      <td>Powder</td>\n      <td>Jun-21</td>\n      <td>40.73</td>\n    </tr>\n  </tbody>\n</table>\n<p>96 rows × 8 columns</p>\n</div>"
     },
     "execution_count": 5,
     "metadata": {},
     "output_type": "execute_result"
    }
   ],
   "source": [
    "data_test"
   ],
   "metadata": {
    "collapsed": false,
    "ExecuteTime": {
     "end_time": "2024-05-11T12:38:04.133114600Z",
     "start_time": "2024-05-11T12:38:03.985914200Z"
    }
   },
   "id": "553d30ab1a519517"
  },
  {
   "cell_type": "code",
   "execution_count": 6,
   "outputs": [
    {
     "data": {
      "text/plain": "ProductType          0\nManufacturer         0\nArea Code            0\nSourcing Channel     0\nProduct Size         0\nProduct Type         0\nMonth of Sourcing    0\nSourcing Cost        0\ndtype: int64"
     },
     "execution_count": 6,
     "metadata": {},
     "output_type": "execute_result"
    }
   ],
   "source": [
    "data_test.isnull().sum()"
   ],
   "metadata": {
    "collapsed": false,
    "ExecuteTime": {
     "end_time": "2024-05-11T12:38:04.151812400Z",
     "start_time": "2024-05-11T12:38:04.038903600Z"
    }
   },
   "id": "1dbbfd5c2cb085dd"
  },
  {
   "cell_type": "code",
   "execution_count": 7,
   "outputs": [],
   "source": [
    "# Convert 'Month of Sourcing' column to datetime using a custom format\n",
    "# data_test['Month of Sourcing'] = pd.to_datetime(data['Month of Sourcing'], format='%b-%y', errors='coerce')"
   ],
   "metadata": {
    "collapsed": false,
    "ExecuteTime": {
     "end_time": "2024-05-11T12:38:04.178938200Z",
     "start_time": "2024-05-11T12:38:04.063526500Z"
    }
   },
   "id": "cfbe9d0043bddc31"
  },
  {
   "cell_type": "code",
   "execution_count": 8,
   "outputs": [
    {
     "name": "stdout",
     "output_type": "stream",
     "text": [
      "<class 'pandas.core.frame.DataFrame'>\n",
      "RangeIndex: 550176 entries, 0 to 550175\n",
      "Data columns (total 8 columns):\n",
      " #   Column             Non-Null Count   Dtype  \n",
      "---  ------             --------------   -----  \n",
      " 0   ProductType        550176 non-null  object \n",
      " 1   Manufacturer       550176 non-null  object \n",
      " 2   Area Code          550176 non-null  object \n",
      " 3   Sourcing Channel   550176 non-null  object \n",
      " 4   Product Size       550176 non-null  object \n",
      " 5   Product Type       550176 non-null  object \n",
      " 6   Month of Sourcing  550176 non-null  object \n",
      " 7   Sourcing Cost      550176 non-null  float64\n",
      "dtypes: float64(1), object(7)\n",
      "memory usage: 33.6+ MB\n"
     ]
    }
   ],
   "source": [
    "data.info()"
   ],
   "metadata": {
    "collapsed": false,
    "ExecuteTime": {
     "end_time": "2024-05-11T12:38:04.287482400Z",
     "start_time": "2024-05-11T12:38:04.211587300Z"
    }
   },
   "id": "4765d8166302ed7a"
  },
  {
   "cell_type": "code",
   "execution_count": 9,
   "outputs": [
    {
     "data": {
      "text/plain": "       Sourcing Cost\ncount  550176.000000\nmean      108.817286\nstd       104.390093\nmin      -196.070000\n25%        57.000000\n50%       132.000000\n75%       146.150000\nmax     32632.500000",
      "text/html": "<div>\n<style scoped>\n    .dataframe tbody tr th:only-of-type {\n        vertical-align: middle;\n    }\n\n    .dataframe tbody tr th {\n        vertical-align: top;\n    }\n\n    .dataframe thead th {\n        text-align: right;\n    }\n</style>\n<table border=\"1\" class=\"dataframe\">\n  <thead>\n    <tr style=\"text-align: right;\">\n      <th></th>\n      <th>Sourcing Cost</th>\n    </tr>\n  </thead>\n  <tbody>\n    <tr>\n      <th>count</th>\n      <td>550176.000000</td>\n    </tr>\n    <tr>\n      <th>mean</th>\n      <td>108.817286</td>\n    </tr>\n    <tr>\n      <th>std</th>\n      <td>104.390093</td>\n    </tr>\n    <tr>\n      <th>min</th>\n      <td>-196.070000</td>\n    </tr>\n    <tr>\n      <th>25%</th>\n      <td>57.000000</td>\n    </tr>\n    <tr>\n      <th>50%</th>\n      <td>132.000000</td>\n    </tr>\n    <tr>\n      <th>75%</th>\n      <td>146.150000</td>\n    </tr>\n    <tr>\n      <th>max</th>\n      <td>32632.500000</td>\n    </tr>\n  </tbody>\n</table>\n</div>"
     },
     "execution_count": 9,
     "metadata": {},
     "output_type": "execute_result"
    }
   ],
   "source": [
    "data.describe()"
   ],
   "metadata": {
    "collapsed": false,
    "ExecuteTime": {
     "end_time": "2024-05-11T12:38:04.333650400Z",
     "start_time": "2024-05-11T12:38:04.228112100Z"
    }
   },
   "id": "8775b056935e590a"
  },
  {
   "cell_type": "code",
   "execution_count": 10,
   "outputs": [
    {
     "data": {
      "text/plain": "       ProductType Manufacturer Area Code Sourcing Channel Product Size  \\\n0             NTM3           X1       A28        WHOLESALE        Large   \n1             NTM2           X1        A9           DIRECT        Large   \n2             NTM3           X2       A20           DIRECT        Large   \n3             NTM3           X1       A18        WHOLESALE        Small   \n4             NTM2           X1       A28           DIRECT        Large   \n...            ...          ...       ...              ...          ...   \n550171        NTM2           X1        A5           DIRECT        Large   \n550172        NTM3           X1       A14           DIRECT        Large   \n550173        NTM2           X1        A5           DIRECT        Small   \n550174        NTM2           X1        A7           DIRECT        Small   \n550175        NTM1           X1        A3           DIRECT        Small   \n\n       Product Type Month of Sourcing  Sourcing Cost  \n0            Powder            May-21          10.16  \n1            Powder            Oct-20         134.28  \n2            Powder            Dec-20          12.46  \n3            Powder            Feb-21         107.22  \n4            Liquid            Nov-20         197.76  \n...             ...               ...            ...  \n550171       Powder            Jul-20         136.47  \n550172       Liquid            Oct-20          72.56  \n550173       Powder            Mar-21         147.64  \n550174       Powder            Feb-21         150.04  \n550175       Powder            Nov-20         139.42  \n\n[550176 rows x 8 columns]",
      "text/html": "<div>\n<style scoped>\n    .dataframe tbody tr th:only-of-type {\n        vertical-align: middle;\n    }\n\n    .dataframe tbody tr th {\n        vertical-align: top;\n    }\n\n    .dataframe thead th {\n        text-align: right;\n    }\n</style>\n<table border=\"1\" class=\"dataframe\">\n  <thead>\n    <tr style=\"text-align: right;\">\n      <th></th>\n      <th>ProductType</th>\n      <th>Manufacturer</th>\n      <th>Area Code</th>\n      <th>Sourcing Channel</th>\n      <th>Product Size</th>\n      <th>Product Type</th>\n      <th>Month of Sourcing</th>\n      <th>Sourcing Cost</th>\n    </tr>\n  </thead>\n  <tbody>\n    <tr>\n      <th>0</th>\n      <td>NTM3</td>\n      <td>X1</td>\n      <td>A28</td>\n      <td>WHOLESALE</td>\n      <td>Large</td>\n      <td>Powder</td>\n      <td>May-21</td>\n      <td>10.16</td>\n    </tr>\n    <tr>\n      <th>1</th>\n      <td>NTM2</td>\n      <td>X1</td>\n      <td>A9</td>\n      <td>DIRECT</td>\n      <td>Large</td>\n      <td>Powder</td>\n      <td>Oct-20</td>\n      <td>134.28</td>\n    </tr>\n    <tr>\n      <th>2</th>\n      <td>NTM3</td>\n      <td>X2</td>\n      <td>A20</td>\n      <td>DIRECT</td>\n      <td>Large</td>\n      <td>Powder</td>\n      <td>Dec-20</td>\n      <td>12.46</td>\n    </tr>\n    <tr>\n      <th>3</th>\n      <td>NTM3</td>\n      <td>X1</td>\n      <td>A18</td>\n      <td>WHOLESALE</td>\n      <td>Small</td>\n      <td>Powder</td>\n      <td>Feb-21</td>\n      <td>107.22</td>\n    </tr>\n    <tr>\n      <th>4</th>\n      <td>NTM2</td>\n      <td>X1</td>\n      <td>A28</td>\n      <td>DIRECT</td>\n      <td>Large</td>\n      <td>Liquid</td>\n      <td>Nov-20</td>\n      <td>197.76</td>\n    </tr>\n    <tr>\n      <th>...</th>\n      <td>...</td>\n      <td>...</td>\n      <td>...</td>\n      <td>...</td>\n      <td>...</td>\n      <td>...</td>\n      <td>...</td>\n      <td>...</td>\n    </tr>\n    <tr>\n      <th>550171</th>\n      <td>NTM2</td>\n      <td>X1</td>\n      <td>A5</td>\n      <td>DIRECT</td>\n      <td>Large</td>\n      <td>Powder</td>\n      <td>Jul-20</td>\n      <td>136.47</td>\n    </tr>\n    <tr>\n      <th>550172</th>\n      <td>NTM3</td>\n      <td>X1</td>\n      <td>A14</td>\n      <td>DIRECT</td>\n      <td>Large</td>\n      <td>Liquid</td>\n      <td>Oct-20</td>\n      <td>72.56</td>\n    </tr>\n    <tr>\n      <th>550173</th>\n      <td>NTM2</td>\n      <td>X1</td>\n      <td>A5</td>\n      <td>DIRECT</td>\n      <td>Small</td>\n      <td>Powder</td>\n      <td>Mar-21</td>\n      <td>147.64</td>\n    </tr>\n    <tr>\n      <th>550174</th>\n      <td>NTM2</td>\n      <td>X1</td>\n      <td>A7</td>\n      <td>DIRECT</td>\n      <td>Small</td>\n      <td>Powder</td>\n      <td>Feb-21</td>\n      <td>150.04</td>\n    </tr>\n    <tr>\n      <th>550175</th>\n      <td>NTM1</td>\n      <td>X1</td>\n      <td>A3</td>\n      <td>DIRECT</td>\n      <td>Small</td>\n      <td>Powder</td>\n      <td>Nov-20</td>\n      <td>139.42</td>\n    </tr>\n  </tbody>\n</table>\n<p>550176 rows × 8 columns</p>\n</div>"
     },
     "execution_count": 10,
     "metadata": {},
     "output_type": "execute_result"
    }
   ],
   "source": [
    "data"
   ],
   "metadata": {
    "collapsed": false,
    "ExecuteTime": {
     "end_time": "2024-05-11T12:38:04.360795200Z",
     "start_time": "2024-05-11T12:38:04.259387200Z"
    }
   },
   "id": "a52c5c07a5c9b68b"
  },
  {
   "cell_type": "code",
   "execution_count": 25,
   "outputs": [],
   "source": [
    "import pandas as pd\n",
    "from sklearn.preprocessing import LabelEncoder\n",
    "\n",
    "def preprocess_data(data):\n",
    "    # Label Encoding for categorical variables\n",
    "    label_encoder = LabelEncoder()\n",
    "    data['ProductType'] = label_encoder.fit_transform(data['ProductType'])\n",
    "    data['Manufacturer'] = label_encoder.fit_transform(data['Manufacturer'])\n",
    "    data['Area Code'] = label_encoder.fit_transform(data['Area Code'])\n",
    "    data['Sourcing Channel'] = label_encoder.fit_transform(data['Sourcing Channel'])\n",
    "    data['Product Size'] = label_encoder.fit_transform(data['Product Size'])\n",
    "    data['Product Type'] = label_encoder.fit_transform(data['Product Type'])\n",
    "    data['Month of Sourcing'] = label_encoder.fit_transform(data['Month of Sourcing'])\n",
    "\n",
    "    # Datetime conversion\n",
    "    # data['Month of Sourcing'] = pd.to_datetime(data['Month of Sourcing'], format='%b-%y')\n",
    "    # Convert float to int\n",
    "    data['Sourcing Cost'] = data['Sourcing Cost'].astype(int)\n",
    "    \n",
    "\n",
    "    # Convert datetime to integer representation\n",
    "    # data['Month of Sourcing'] = data['Month of Sourcing'].apply(lambda x: x.timestamp())\n",
    "\n",
    "    # Convert to integer\n",
    "    # data['Month of Sourcing'] = data['Month of Sourcing'].astype(int)\n",
    "    \n",
    "    return data\n",
    "\n",
    "# Example usage:\n",
    "# train_data = preprocess_data(train_data)\n",
    "# test_data = preprocess_data(test_data)\n"
   ],
   "metadata": {
    "collapsed": false,
    "ExecuteTime": {
     "end_time": "2024-05-11T14:58:59.453521200Z",
     "start_time": "2024-05-11T14:58:59.394638600Z"
    }
   },
   "id": "b5cc8f72e2bf0465"
  },
  {
   "cell_type": "code",
   "execution_count": 26,
   "outputs": [],
   "source": [
    "train_data = preprocess_data(data)\n",
    "\n",
    "# Confirm the changes"
   ],
   "metadata": {
    "collapsed": false,
    "ExecuteTime": {
     "end_time": "2024-05-11T14:59:00.961077500Z",
     "start_time": "2024-05-11T14:59:00.650786500Z"
    }
   },
   "id": "7f102fe19ec3ea14"
  },
  {
   "cell_type": "code",
   "execution_count": 27,
   "outputs": [
    {
     "data": {
      "text/plain": "        ProductType  Manufacturer  Area Code  Sourcing Channel  Product Size  \\\n0                 2             0         19                 3             1   \n1                 1             0         44                 0             1   \n2                 2             1         12                 0             1   \n3                 2             0          9                 3             2   \n4                 1             0         19                 0             1   \n...             ...           ...        ...               ...           ...   \n550171            1             0         40                 0             1   \n550172            2             0          5                 0             1   \n550173            1             0         40                 0             2   \n550174            1             0         42                 0             2   \n550175            0             0         21                 0             2   \n\n        Product Type  Month of Sourcing  Sourcing Cost  \n0                  1                 10             10  \n1                  1                  3            134  \n2                  1                  5             12  \n3                  1                  7            107  \n4                  0                  4            197  \n...              ...                ...            ...  \n550171             1                  0            136  \n550172             0                  3             72  \n550173             1                  8            147  \n550174             1                  7            150  \n550175             1                  4            139  \n\n[550176 rows x 8 columns]",
      "text/html": "<div>\n<style scoped>\n    .dataframe tbody tr th:only-of-type {\n        vertical-align: middle;\n    }\n\n    .dataframe tbody tr th {\n        vertical-align: top;\n    }\n\n    .dataframe thead th {\n        text-align: right;\n    }\n</style>\n<table border=\"1\" class=\"dataframe\">\n  <thead>\n    <tr style=\"text-align: right;\">\n      <th></th>\n      <th>ProductType</th>\n      <th>Manufacturer</th>\n      <th>Area Code</th>\n      <th>Sourcing Channel</th>\n      <th>Product Size</th>\n      <th>Product Type</th>\n      <th>Month of Sourcing</th>\n      <th>Sourcing Cost</th>\n    </tr>\n  </thead>\n  <tbody>\n    <tr>\n      <th>0</th>\n      <td>2</td>\n      <td>0</td>\n      <td>19</td>\n      <td>3</td>\n      <td>1</td>\n      <td>1</td>\n      <td>10</td>\n      <td>10</td>\n    </tr>\n    <tr>\n      <th>1</th>\n      <td>1</td>\n      <td>0</td>\n      <td>44</td>\n      <td>0</td>\n      <td>1</td>\n      <td>1</td>\n      <td>3</td>\n      <td>134</td>\n    </tr>\n    <tr>\n      <th>2</th>\n      <td>2</td>\n      <td>1</td>\n      <td>12</td>\n      <td>0</td>\n      <td>1</td>\n      <td>1</td>\n      <td>5</td>\n      <td>12</td>\n    </tr>\n    <tr>\n      <th>3</th>\n      <td>2</td>\n      <td>0</td>\n      <td>9</td>\n      <td>3</td>\n      <td>2</td>\n      <td>1</td>\n      <td>7</td>\n      <td>107</td>\n    </tr>\n    <tr>\n      <th>4</th>\n      <td>1</td>\n      <td>0</td>\n      <td>19</td>\n      <td>0</td>\n      <td>1</td>\n      <td>0</td>\n      <td>4</td>\n      <td>197</td>\n    </tr>\n    <tr>\n      <th>...</th>\n      <td>...</td>\n      <td>...</td>\n      <td>...</td>\n      <td>...</td>\n      <td>...</td>\n      <td>...</td>\n      <td>...</td>\n      <td>...</td>\n    </tr>\n    <tr>\n      <th>550171</th>\n      <td>1</td>\n      <td>0</td>\n      <td>40</td>\n      <td>0</td>\n      <td>1</td>\n      <td>1</td>\n      <td>0</td>\n      <td>136</td>\n    </tr>\n    <tr>\n      <th>550172</th>\n      <td>2</td>\n      <td>0</td>\n      <td>5</td>\n      <td>0</td>\n      <td>1</td>\n      <td>0</td>\n      <td>3</td>\n      <td>72</td>\n    </tr>\n    <tr>\n      <th>550173</th>\n      <td>1</td>\n      <td>0</td>\n      <td>40</td>\n      <td>0</td>\n      <td>2</td>\n      <td>1</td>\n      <td>8</td>\n      <td>147</td>\n    </tr>\n    <tr>\n      <th>550174</th>\n      <td>1</td>\n      <td>0</td>\n      <td>42</td>\n      <td>0</td>\n      <td>2</td>\n      <td>1</td>\n      <td>7</td>\n      <td>150</td>\n    </tr>\n    <tr>\n      <th>550175</th>\n      <td>0</td>\n      <td>0</td>\n      <td>21</td>\n      <td>0</td>\n      <td>2</td>\n      <td>1</td>\n      <td>4</td>\n      <td>139</td>\n    </tr>\n  </tbody>\n</table>\n<p>550176 rows × 8 columns</p>\n</div>"
     },
     "execution_count": 27,
     "metadata": {},
     "output_type": "execute_result"
    }
   ],
   "source": [
    "train_data"
   ],
   "metadata": {
    "collapsed": false,
    "ExecuteTime": {
     "end_time": "2024-05-11T14:59:01.684141300Z",
     "start_time": "2024-05-11T14:59:01.654901400Z"
    }
   },
   "id": "15aaa0bf21ed827d"
  },
  {
   "cell_type": "code",
   "execution_count": 28,
   "outputs": [],
   "source": [
    "test_data = preprocess_data(data_test)"
   ],
   "metadata": {
    "collapsed": false,
    "ExecuteTime": {
     "end_time": "2024-05-11T14:59:03.220640900Z",
     "start_time": "2024-05-11T14:59:03.187776500Z"
    }
   },
   "id": "178ea66b2fedb6d2"
  },
  {
   "cell_type": "code",
   "execution_count": 29,
   "outputs": [
    {
     "data": {
      "text/plain": "    ProductType  Manufacturer  Area Code  Sourcing Channel  Product Size  \\\n0             0             0          0                 0             2   \n1             0             0          1                 0             1   \n2             0             0          1                 1             1   \n3             0             0          2                 0             1   \n4             0             0         11                 0             1   \n..          ...           ...        ...               ...           ...   \n91            2             0         37                 0             2   \n92            2             0         43                 0             1   \n93            2             0         43                 0             2   \n94            2             1         12                 0             1   \n95            2             2         14                 2             1   \n\n    Product Type  Month of Sourcing  Sourcing Cost  \n0              1                  0            103  \n1              1                  0            155  \n2              1                  0            143  \n3              1                  0            139  \n4              1                  0            169  \n..           ...                ...            ...  \n91             0                  0             89  \n92             1                  0            114  \n93             1                  0            111  \n94             1                  0             32  \n95             1                  0             40  \n\n[96 rows x 8 columns]",
      "text/html": "<div>\n<style scoped>\n    .dataframe tbody tr th:only-of-type {\n        vertical-align: middle;\n    }\n\n    .dataframe tbody tr th {\n        vertical-align: top;\n    }\n\n    .dataframe thead th {\n        text-align: right;\n    }\n</style>\n<table border=\"1\" class=\"dataframe\">\n  <thead>\n    <tr style=\"text-align: right;\">\n      <th></th>\n      <th>ProductType</th>\n      <th>Manufacturer</th>\n      <th>Area Code</th>\n      <th>Sourcing Channel</th>\n      <th>Product Size</th>\n      <th>Product Type</th>\n      <th>Month of Sourcing</th>\n      <th>Sourcing Cost</th>\n    </tr>\n  </thead>\n  <tbody>\n    <tr>\n      <th>0</th>\n      <td>0</td>\n      <td>0</td>\n      <td>0</td>\n      <td>0</td>\n      <td>2</td>\n      <td>1</td>\n      <td>0</td>\n      <td>103</td>\n    </tr>\n    <tr>\n      <th>1</th>\n      <td>0</td>\n      <td>0</td>\n      <td>1</td>\n      <td>0</td>\n      <td>1</td>\n      <td>1</td>\n      <td>0</td>\n      <td>155</td>\n    </tr>\n    <tr>\n      <th>2</th>\n      <td>0</td>\n      <td>0</td>\n      <td>1</td>\n      <td>1</td>\n      <td>1</td>\n      <td>1</td>\n      <td>0</td>\n      <td>143</td>\n    </tr>\n    <tr>\n      <th>3</th>\n      <td>0</td>\n      <td>0</td>\n      <td>2</td>\n      <td>0</td>\n      <td>1</td>\n      <td>1</td>\n      <td>0</td>\n      <td>139</td>\n    </tr>\n    <tr>\n      <th>4</th>\n      <td>0</td>\n      <td>0</td>\n      <td>11</td>\n      <td>0</td>\n      <td>1</td>\n      <td>1</td>\n      <td>0</td>\n      <td>169</td>\n    </tr>\n    <tr>\n      <th>...</th>\n      <td>...</td>\n      <td>...</td>\n      <td>...</td>\n      <td>...</td>\n      <td>...</td>\n      <td>...</td>\n      <td>...</td>\n      <td>...</td>\n    </tr>\n    <tr>\n      <th>91</th>\n      <td>2</td>\n      <td>0</td>\n      <td>37</td>\n      <td>0</td>\n      <td>2</td>\n      <td>0</td>\n      <td>0</td>\n      <td>89</td>\n    </tr>\n    <tr>\n      <th>92</th>\n      <td>2</td>\n      <td>0</td>\n      <td>43</td>\n      <td>0</td>\n      <td>1</td>\n      <td>1</td>\n      <td>0</td>\n      <td>114</td>\n    </tr>\n    <tr>\n      <th>93</th>\n      <td>2</td>\n      <td>0</td>\n      <td>43</td>\n      <td>0</td>\n      <td>2</td>\n      <td>1</td>\n      <td>0</td>\n      <td>111</td>\n    </tr>\n    <tr>\n      <th>94</th>\n      <td>2</td>\n      <td>1</td>\n      <td>12</td>\n      <td>0</td>\n      <td>1</td>\n      <td>1</td>\n      <td>0</td>\n      <td>32</td>\n    </tr>\n    <tr>\n      <th>95</th>\n      <td>2</td>\n      <td>2</td>\n      <td>14</td>\n      <td>2</td>\n      <td>1</td>\n      <td>1</td>\n      <td>0</td>\n      <td>40</td>\n    </tr>\n  </tbody>\n</table>\n<p>96 rows × 8 columns</p>\n</div>"
     },
     "execution_count": 29,
     "metadata": {},
     "output_type": "execute_result"
    }
   ],
   "source": [
    "\n",
    "test_data "
   ],
   "metadata": {
    "collapsed": false,
    "ExecuteTime": {
     "end_time": "2024-05-11T14:59:03.991685800Z",
     "start_time": "2024-05-11T14:59:03.936872500Z"
    }
   },
   "id": "1949f56dd42523c"
  },
  {
   "cell_type": "code",
   "execution_count": 30,
   "outputs": [
    {
     "name": "stdout",
     "output_type": "stream",
     "text": [
      "ProductType          int64\n",
      "Manufacturer         int64\n",
      "Area Code            int64\n",
      "Sourcing Channel     int64\n",
      "Product Size         int64\n",
      "Product Type         int64\n",
      "Month of Sourcing    int64\n",
      "Sourcing Cost        int32\n",
      "dtype: object\n"
     ]
    }
   ],
   "source": [
    "print(test_data.dtypes)"
   ],
   "metadata": {
    "collapsed": false,
    "ExecuteTime": {
     "end_time": "2024-05-11T14:59:05.151970900Z",
     "start_time": "2024-05-11T14:59:05.080437Z"
    }
   },
   "id": "15d8cceaadde0dd6"
  },
  {
   "cell_type": "code",
   "execution_count": 31,
   "outputs": [
    {
     "data": {
      "text/plain": "    ProductType  Manufacturer  Area Code  Sourcing Channel  Product Size  \\\n0             0             0          0                 0             2   \n1             0             0          1                 0             1   \n2             0             0          1                 1             1   \n3             0             0          2                 0             1   \n4             0             0         11                 0             1   \n..          ...           ...        ...               ...           ...   \n91            2             0         37                 0             2   \n92            2             0         43                 0             1   \n93            2             0         43                 0             2   \n94            2             1         12                 0             1   \n95            2             2         14                 2             1   \n\n    Product Type  Month of Sourcing  Sourcing Cost  \n0              1                  0            103  \n1              1                  0            155  \n2              1                  0            143  \n3              1                  0            139  \n4              1                  0            169  \n..           ...                ...            ...  \n91             0                  0             89  \n92             1                  0            114  \n93             1                  0            111  \n94             1                  0             32  \n95             1                  0             40  \n\n[96 rows x 8 columns]",
      "text/html": "<div>\n<style scoped>\n    .dataframe tbody tr th:only-of-type {\n        vertical-align: middle;\n    }\n\n    .dataframe tbody tr th {\n        vertical-align: top;\n    }\n\n    .dataframe thead th {\n        text-align: right;\n    }\n</style>\n<table border=\"1\" class=\"dataframe\">\n  <thead>\n    <tr style=\"text-align: right;\">\n      <th></th>\n      <th>ProductType</th>\n      <th>Manufacturer</th>\n      <th>Area Code</th>\n      <th>Sourcing Channel</th>\n      <th>Product Size</th>\n      <th>Product Type</th>\n      <th>Month of Sourcing</th>\n      <th>Sourcing Cost</th>\n    </tr>\n  </thead>\n  <tbody>\n    <tr>\n      <th>0</th>\n      <td>0</td>\n      <td>0</td>\n      <td>0</td>\n      <td>0</td>\n      <td>2</td>\n      <td>1</td>\n      <td>0</td>\n      <td>103</td>\n    </tr>\n    <tr>\n      <th>1</th>\n      <td>0</td>\n      <td>0</td>\n      <td>1</td>\n      <td>0</td>\n      <td>1</td>\n      <td>1</td>\n      <td>0</td>\n      <td>155</td>\n    </tr>\n    <tr>\n      <th>2</th>\n      <td>0</td>\n      <td>0</td>\n      <td>1</td>\n      <td>1</td>\n      <td>1</td>\n      <td>1</td>\n      <td>0</td>\n      <td>143</td>\n    </tr>\n    <tr>\n      <th>3</th>\n      <td>0</td>\n      <td>0</td>\n      <td>2</td>\n      <td>0</td>\n      <td>1</td>\n      <td>1</td>\n      <td>0</td>\n      <td>139</td>\n    </tr>\n    <tr>\n      <th>4</th>\n      <td>0</td>\n      <td>0</td>\n      <td>11</td>\n      <td>0</td>\n      <td>1</td>\n      <td>1</td>\n      <td>0</td>\n      <td>169</td>\n    </tr>\n    <tr>\n      <th>...</th>\n      <td>...</td>\n      <td>...</td>\n      <td>...</td>\n      <td>...</td>\n      <td>...</td>\n      <td>...</td>\n      <td>...</td>\n      <td>...</td>\n    </tr>\n    <tr>\n      <th>91</th>\n      <td>2</td>\n      <td>0</td>\n      <td>37</td>\n      <td>0</td>\n      <td>2</td>\n      <td>0</td>\n      <td>0</td>\n      <td>89</td>\n    </tr>\n    <tr>\n      <th>92</th>\n      <td>2</td>\n      <td>0</td>\n      <td>43</td>\n      <td>0</td>\n      <td>1</td>\n      <td>1</td>\n      <td>0</td>\n      <td>114</td>\n    </tr>\n    <tr>\n      <th>93</th>\n      <td>2</td>\n      <td>0</td>\n      <td>43</td>\n      <td>0</td>\n      <td>2</td>\n      <td>1</td>\n      <td>0</td>\n      <td>111</td>\n    </tr>\n    <tr>\n      <th>94</th>\n      <td>2</td>\n      <td>1</td>\n      <td>12</td>\n      <td>0</td>\n      <td>1</td>\n      <td>1</td>\n      <td>0</td>\n      <td>32</td>\n    </tr>\n    <tr>\n      <th>95</th>\n      <td>2</td>\n      <td>2</td>\n      <td>14</td>\n      <td>2</td>\n      <td>1</td>\n      <td>1</td>\n      <td>0</td>\n      <td>40</td>\n    </tr>\n  </tbody>\n</table>\n<p>96 rows × 8 columns</p>\n</div>"
     },
     "execution_count": 31,
     "metadata": {},
     "output_type": "execute_result"
    }
   ],
   "source": [
    "test_data"
   ],
   "metadata": {
    "collapsed": false,
    "ExecuteTime": {
     "end_time": "2024-05-11T14:59:06.084976400Z",
     "start_time": "2024-05-11T14:59:06.037595Z"
    }
   },
   "id": "95a9ff7bbf6d245b"
  },
  {
   "cell_type": "code",
   "execution_count": 18,
   "outputs": [],
   "source": [
    "correlation_matrix = train_data.corr()"
   ],
   "metadata": {
    "collapsed": false,
    "ExecuteTime": {
     "end_time": "2024-05-11T11:33:02.032404800Z",
     "start_time": "2024-05-11T11:33:01.917176200Z"
    }
   },
   "id": "f5d54c58d920c0ee"
  },
  {
   "cell_type": "code",
   "execution_count": 19,
   "outputs": [
    {
     "data": {
      "text/plain": "                   ProductType  Manufacturer  Area Code  Sourcing Channel  \\\nProductType           1.000000     -0.153839  -0.148129          0.288780   \nManufacturer         -0.153839      1.000000   0.052805          0.265495   \nArea Code            -0.148129      0.052805   1.000000         -0.019850   \nSourcing Channel      0.288780      0.265495  -0.019850          1.000000   \nProduct Size          0.076104     -0.131188  -0.122287         -0.094251   \nProduct Type         -0.075945      0.010230  -0.075162          0.084381   \nMonth of Sourcing    -0.013265     -0.007273   0.004917          0.101935   \nSourcing Cost        -0.134013     -0.221592   0.087712         -0.064848   \n\n                   Product Size  Product Type  Month of Sourcing  \\\nProductType            0.076104     -0.075945          -0.013265   \nManufacturer          -0.131188      0.010230          -0.007273   \nArea Code             -0.122287     -0.075162           0.004917   \nSourcing Channel      -0.094251      0.084381           0.101935   \nProduct Size           1.000000      0.159985          -0.011080   \nProduct Type           0.159985      1.000000          -0.000369   \nMonth of Sourcing     -0.011080     -0.000369           1.000000   \nSourcing Cost         -0.013643      0.072347           0.056860   \n\n                   Sourcing Cost  \nProductType            -0.134013  \nManufacturer           -0.221592  \nArea Code               0.087712  \nSourcing Channel       -0.064848  \nProduct Size           -0.013643  \nProduct Type            0.072347  \nMonth of Sourcing       0.056860  \nSourcing Cost           1.000000  ",
      "text/html": "<div>\n<style scoped>\n    .dataframe tbody tr th:only-of-type {\n        vertical-align: middle;\n    }\n\n    .dataframe tbody tr th {\n        vertical-align: top;\n    }\n\n    .dataframe thead th {\n        text-align: right;\n    }\n</style>\n<table border=\"1\" class=\"dataframe\">\n  <thead>\n    <tr style=\"text-align: right;\">\n      <th></th>\n      <th>ProductType</th>\n      <th>Manufacturer</th>\n      <th>Area Code</th>\n      <th>Sourcing Channel</th>\n      <th>Product Size</th>\n      <th>Product Type</th>\n      <th>Month of Sourcing</th>\n      <th>Sourcing Cost</th>\n    </tr>\n  </thead>\n  <tbody>\n    <tr>\n      <th>ProductType</th>\n      <td>1.000000</td>\n      <td>-0.153839</td>\n      <td>-0.148129</td>\n      <td>0.288780</td>\n      <td>0.076104</td>\n      <td>-0.075945</td>\n      <td>-0.013265</td>\n      <td>-0.134013</td>\n    </tr>\n    <tr>\n      <th>Manufacturer</th>\n      <td>-0.153839</td>\n      <td>1.000000</td>\n      <td>0.052805</td>\n      <td>0.265495</td>\n      <td>-0.131188</td>\n      <td>0.010230</td>\n      <td>-0.007273</td>\n      <td>-0.221592</td>\n    </tr>\n    <tr>\n      <th>Area Code</th>\n      <td>-0.148129</td>\n      <td>0.052805</td>\n      <td>1.000000</td>\n      <td>-0.019850</td>\n      <td>-0.122287</td>\n      <td>-0.075162</td>\n      <td>0.004917</td>\n      <td>0.087712</td>\n    </tr>\n    <tr>\n      <th>Sourcing Channel</th>\n      <td>0.288780</td>\n      <td>0.265495</td>\n      <td>-0.019850</td>\n      <td>1.000000</td>\n      <td>-0.094251</td>\n      <td>0.084381</td>\n      <td>0.101935</td>\n      <td>-0.064848</td>\n    </tr>\n    <tr>\n      <th>Product Size</th>\n      <td>0.076104</td>\n      <td>-0.131188</td>\n      <td>-0.122287</td>\n      <td>-0.094251</td>\n      <td>1.000000</td>\n      <td>0.159985</td>\n      <td>-0.011080</td>\n      <td>-0.013643</td>\n    </tr>\n    <tr>\n      <th>Product Type</th>\n      <td>-0.075945</td>\n      <td>0.010230</td>\n      <td>-0.075162</td>\n      <td>0.084381</td>\n      <td>0.159985</td>\n      <td>1.000000</td>\n      <td>-0.000369</td>\n      <td>0.072347</td>\n    </tr>\n    <tr>\n      <th>Month of Sourcing</th>\n      <td>-0.013265</td>\n      <td>-0.007273</td>\n      <td>0.004917</td>\n      <td>0.101935</td>\n      <td>-0.011080</td>\n      <td>-0.000369</td>\n      <td>1.000000</td>\n      <td>0.056860</td>\n    </tr>\n    <tr>\n      <th>Sourcing Cost</th>\n      <td>-0.134013</td>\n      <td>-0.221592</td>\n      <td>0.087712</td>\n      <td>-0.064848</td>\n      <td>-0.013643</td>\n      <td>0.072347</td>\n      <td>0.056860</td>\n      <td>1.000000</td>\n    </tr>\n  </tbody>\n</table>\n</div>"
     },
     "execution_count": 19,
     "metadata": {},
     "output_type": "execute_result"
    }
   ],
   "source": [
    "correlation_matrix"
   ],
   "metadata": {
    "collapsed": false,
    "ExecuteTime": {
     "end_time": "2024-05-11T11:33:02.799218500Z",
     "start_time": "2024-05-11T11:33:02.754843900Z"
    }
   },
   "id": "a39f37a39ef0d221"
  },
  {
   "cell_type": "code",
   "execution_count": 35,
   "outputs": [
    {
     "data": {
      "text/plain": "<Figure size 1200x1000 with 2 Axes>",
      "image/png": "[encoded data removed]"
     },
     "metadata": {},
     "output_type": "display_data"
    }
   ],
   "source": [
    "# Plot the heatmap\n",
    "plt.figure(figsize=(12, 10))  # Adjust the figure size\n",
    "heatmap = sns.heatmap(correlation_matrix, cmap='coolwarm',\n",
    "            linewidths=.5, cbar_kws={\"shrink\": .5}, xticklabels=correlation_matrix.columns, yticklabels=correlation_matrix.columns)\n",
    "\n",
    "# Annotate each box with its corresponding value\n",
    "for i in range(len(correlation_matrix)):\n",
    "    for j in range(len(correlation_matrix)):\n",
    "        heatmap.text(j+0.5, i+0.5, '{:.2f}'.format(correlation_matrix.iloc[i, j]),\n",
    "                     ha='center', va='center', color='black')\n",
    "\n",
    "plt.title('Correlation Heatmap')\n",
    "plt.xticks(rotation=45)  # Rotate x-axis labels for better visibility\n",
    "plt.yticks(rotation=0)   # Rotate y-axis labels for better visibility\n",
    "plt.show()"
   ],
   "metadata": {
    "collapsed": false,
    "ExecuteTime": {
     "end_time": "2024-05-11T11:13:12.238068800Z",
     "start_time": "2024-05-11T11:13:11.765295300Z"
    }
   },
   "id": "fcda6a99685b3920"
  },
  {
   "cell_type": "code",
   "execution_count": 32,
   "outputs": [
    {
     "name": "stdout",
     "output_type": "stream",
     "text": [
      "Mean Squared Error on Validation Set: 3052.265010567455\n"
     ]
    }
   ],
   "source": [
    "import pandas as pd\n",
    "from sklearn.model_selection import train_test_split\n",
    "from sklearn.ensemble import RandomForestRegressor\n",
    "from sklearn.metrics import mean_squared_error\n",
    "\n",
    "# Assuming you've already preprocessed the data and encoded categorical variables, and converted 'Month of Sourcing' to integers\n",
    "# Split the data into features (X) and target variable (y)\n",
    "X = train_data.drop(['Sourcing Cost'], axis=1)\n",
    "y = train_data['Sourcing Cost']\n",
    "\n",
    "# Split the data into training and validation sets\n",
    "X_train, X_val, y_train, y_val = train_test_split(X, y, test_size=0.2, random_state=42)\n",
    "\n",
    "# Train a Random Forest Regressor model\n",
    "model = RandomForestRegressor(n_estimators=200, random_state=42)\n",
    "model.fit(X_train, y_train)\n",
    "\n",
    "# Evaluate the model\n",
    "y_pred = model.predict(X_val)\n",
    "mse = mean_squared_error(y_val, y_pred)\n",
    "print(\"Mean Squared Error on Validation Set:\", mse)\n"
   ],
   "metadata": {
    "collapsed": false,
    "ExecuteTime": {
     "end_time": "2024-05-11T15:01:09.668526300Z",
     "start_time": "2024-05-11T14:59:18.164652600Z"
    }
   },
   "id": "ecfa13c1dbf48e59"
  },
  {
   "cell_type": "code",
   "execution_count": 33,
   "outputs": [
    {
     "data": {
      "text/plain": "array([153.24120212, 146.87467016,  24.36616755, ...,  24.        ,\n       150.19475094, 174.        ])"
     },
     "execution_count": 33,
     "metadata": {},
     "output_type": "execute_result"
    }
   ],
   "source": [
    "y_pred"
   ],
   "metadata": {
    "collapsed": false,
    "ExecuteTime": {
     "end_time": "2024-05-11T15:01:09.739433800Z",
     "start_time": "2024-05-11T15:01:09.668526300Z"
    }
   },
   "id": "6d44cfbcfcb6dbc8"
  },
  {
   "cell_type": "code",
   "execution_count": 34,
   "outputs": [
    {
     "name": "stdout",
     "output_type": "stream",
     "text": [
      "R^2 Score on Validation Set: 0.4631695997215839\n"
     ]
    }
   ],
   "source": [
    "from sklearn.metrics import r2_score\n",
    "\n",
    "# Evaluate the model\n",
    "r2 = r2_score(y_val, y_pred)\n",
    "print(\"R^2 Score on Validation Set:\", r2)\n"
   ],
   "metadata": {
    "collapsed": false,
    "ExecuteTime": {
     "end_time": "2024-05-11T15:01:09.760661100Z",
     "start_time": "2024-05-11T15:01:09.700166100Z"
    }
   },
   "id": "fbfbd8b3a5b1bbce"
  },
  {
   "cell_type": "code",
   "execution_count": 18,
   "outputs": [
    {
     "name": "stdout",
     "output_type": "stream",
     "text": [
      "Root Mean Squared Error on Validation Set: 51.95187996278287\n"
     ]
    }
   ],
   "source": [
    "import pandas as pd\n",
    "from sklearn.model_selection import train_test_split\n",
    "import lightgbm as lgb\n",
    "from sklearn.metrics import mean_squared_error\n",
    "\n",
    "# Assuming you've already preprocessed the data and encoded categorical variables, and converted 'Month of Sourcing' to integers\n",
    "# Split the data into features (X) and target variable (y)\n",
    "X = train_data.drop(['Sourcing Cost'], axis=1)\n",
    "y = train_data['Sourcing Cost']\n",
    "\n",
    "# Split the data into training and validation sets\n",
    "X_train, X_val, y_train, y_val = train_test_split(X, y, test_size=0.2, random_state=42)\n",
    "\n",
    "# Convert data to LightGBM Dataset format\n",
    "train_data = lgb.Dataset(X_train, label=y_train)\n",
    "val_data = lgb.Dataset(X_val, label=y_val, reference=train_data)\n",
    "\n",
    "# Define LightGBM parameters\n",
    "params = {\n",
    "    'objective': 'regression',\n",
    "    'metric': 'rmse',\n",
    "    'num_leaves': 31,\n",
    "    'learning_rate': 0.05,\n",
    "    'early_stopping_rounds': 10,  # Specify early stopping rounds here\n",
    "    'verbose': -1\n",
    "}\n",
    "\n",
    "# Train the LightGBM model\n",
    "num_rounds = 200\n",
    "model01 = lgb.train(params, train_data, num_rounds, valid_sets=[val_data])\n",
    "\n",
    "# Predict on validation set\n",
    "y_pred01 = model01.predict(X_val, num_iteration=model01.best_iteration)\n",
    "\n",
    "# Calculate Root Mean Squared Error (RMSE)\n",
    "rmse = mean_squared_error(y_val, y_pred01) ** 0.5\n",
    "print(\"Root Mean Squared Error on Validation Set:\", rmse)\n"
   ],
   "metadata": {
    "collapsed": false,
    "ExecuteTime": {
     "end_time": "2024-05-11T12:38:17.556375600Z",
     "start_time": "2024-05-11T12:38:15.821465800Z"
    }
   },
   "id": "2048da2d799fa85e"
  },
  {
   "cell_type": "code",
   "execution_count": 24,
   "outputs": [
    {
     "data": {
      "text/plain": "array([148.45224143, 146.65762615,  27.21102334, ...,  26.79767896,\n       152.16411646, 171.46712925])"
     },
     "execution_count": 24,
     "metadata": {},
     "output_type": "execute_result"
    }
   ],
   "source": [
    "y_pred01"
   ],
   "metadata": {
    "collapsed": false,
    "ExecuteTime": {
     "end_time": "2024-05-11T13:03:56.790930300Z",
     "start_time": "2024-05-11T13:03:56.761310500Z"
    }
   },
   "id": "2876372fb661dcf"
  },
  {
   "cell_type": "code",
   "execution_count": 20,
   "outputs": [
    {
     "name": "stdout",
     "output_type": "stream",
     "text": [
      "Mean Squared Error on Validation Set: 2698.9978316674\n"
     ]
    }
   ],
   "source": [
    "mse = mean_squared_error(y_val, y_pred01)\n",
    "print(\"Mean Squared Error on Validation Set:\", mse)"
   ],
   "metadata": {
    "collapsed": false,
    "ExecuteTime": {
     "end_time": "2024-05-11T12:38:25.792148500Z",
     "start_time": "2024-05-11T12:38:25.742503300Z"
    }
   },
   "id": "8d81ab27a92b5b6a"
  },
  {
   "cell_type": "code",
   "execution_count": 22,
   "outputs": [
    {
     "name": "stdout",
     "output_type": "stream",
     "text": [
      "Mean absolute on Validation Set: 14.602398706628302\n"
     ]
    }
   ],
   "source": [
    "mae = mean_absolute_error(y_val, y_pred01)\n",
    "print(\"Mean absolute on Validation Set:\", mae)"
   ],
   "metadata": {
    "collapsed": false,
    "ExecuteTime": {
     "end_time": "2024-05-11T12:44:50.330495500Z",
     "start_time": "2024-05-11T12:44:50.288177100Z"
    }
   },
   "id": "325dd5509ea58a0"
  },
  {
   "cell_type": "code",
   "execution_count": 19,
   "outputs": [],
   "source": [
    "test_source= test_data['Sourcing Cost']"
   ],
   "metadata": {
    "collapsed": false,
    "ExecuteTime": {
     "end_time": "2024-05-11T11:35:51.992801500Z",
     "start_time": "2024-05-11T11:35:51.966049400Z"
    }
   },
   "id": "7ab78c74f270ec0b"
  },
  {
   "cell_type": "code",
   "execution_count": 20,
   "outputs": [
    {
     "data": {
      "text/plain": "0     103\n1     155\n2     143\n3     139\n4     169\n     ... \n91     89\n92    114\n93    111\n94     32\n95     40\nName: Sourcing Cost, Length: 96, dtype: int32"
     },
     "execution_count": 20,
     "metadata": {},
     "output_type": "execute_result"
    }
   ],
   "source": [
    "test_source"
   ],
   "metadata": {
    "collapsed": false,
    "ExecuteTime": {
     "end_time": "2024-05-11T11:35:52.787769900Z",
     "start_time": "2024-05-11T11:35:52.757649300Z"
    }
   },
   "id": "8225c6543a6c8039"
  },
  {
   "cell_type": "code",
   "execution_count": 21,
   "outputs": [],
   "source": [
    "# test_data.drop(['Sourcing Cost'],axis=1,inplace=True)\n",
    "test_data.drop(['Sourcing Cost'], axis=1,inplace=True)\n"
   ],
   "metadata": {
    "collapsed": false,
    "ExecuteTime": {
     "end_time": "2024-05-11T11:35:56.775589Z",
     "start_time": "2024-05-11T11:35:56.756593600Z"
    }
   },
   "id": "924818cb58db7e34"
  },
  {
   "cell_type": "code",
   "execution_count": 22,
   "outputs": [
    {
     "data": {
      "text/plain": "        ProductType  Manufacturer  Area Code  Sourcing Channel  Product Size  \\\n0                 2             0         19                 3             1   \n1                 1             0         44                 0             1   \n2                 2             1         12                 0             1   \n3                 2             0          9                 3             2   \n4                 1             0         19                 0             1   \n...             ...           ...        ...               ...           ...   \n550171            1             0         40                 0             1   \n550172            2             0          5                 0             1   \n550173            1             0         40                 0             2   \n550174            1             0         42                 0             2   \n550175            0             0         21                 0             2   \n\n        Product Type  Month of Sourcing  \n0                  1         1619827200  \n1                  1         1601510400  \n2                  1         1606780800  \n3                  1         1612137600  \n4                  0         1604188800  \n...              ...                ...  \n550171             1         1593561600  \n550172             0         1601510400  \n550173             1         1614556800  \n550174             1         1612137600  \n550175             1         1604188800  \n\n[550176 rows x 7 columns]",
      "text/html": "<div>\n<style scoped>\n    .dataframe tbody tr th:only-of-type {\n        vertical-align: middle;\n    }\n\n    .dataframe tbody tr th {\n        vertical-align: top;\n    }\n\n    .dataframe thead th {\n        text-align: right;\n    }\n</style>\n<table border=\"1\" class=\"dataframe\">\n  <thead>\n    <tr style=\"text-align: right;\">\n      <th></th>\n      <th>ProductType</th>\n      <th>Manufacturer</th>\n      <th>Area Code</th>\n      <th>Sourcing Channel</th>\n      <th>Product Size</th>\n      <th>Product Type</th>\n      <th>Month of Sourcing</th>\n    </tr>\n  </thead>\n  <tbody>\n    <tr>\n      <th>0</th>\n      <td>2</td>\n      <td>0</td>\n      <td>19</td>\n      <td>3</td>\n      <td>1</td>\n      <td>1</td>\n      <td>1619827200</td>\n    </tr>\n    <tr>\n      <th>1</th>\n      <td>1</td>\n      <td>0</td>\n      <td>44</td>\n      <td>0</td>\n      <td>1</td>\n      <td>1</td>\n      <td>1601510400</td>\n    </tr>\n    <tr>\n      <th>2</th>\n      <td>2</td>\n      <td>1</td>\n      <td>12</td>\n      <td>0</td>\n      <td>1</td>\n      <td>1</td>\n      <td>1606780800</td>\n    </tr>\n    <tr>\n      <th>3</th>\n      <td>2</td>\n      <td>0</td>\n      <td>9</td>\n      <td>3</td>\n      <td>2</td>\n      <td>1</td>\n      <td>1612137600</td>\n    </tr>\n    <tr>\n      <th>4</th>\n      <td>1</td>\n      <td>0</td>\n      <td>19</td>\n      <td>0</td>\n      <td>1</td>\n      <td>0</td>\n      <td>1604188800</td>\n    </tr>\n    <tr>\n      <th>...</th>\n      <td>...</td>\n      <td>...</td>\n      <td>...</td>\n      <td>...</td>\n      <td>...</td>\n      <td>...</td>\n      <td>...</td>\n    </tr>\n    <tr>\n      <th>550171</th>\n      <td>1</td>\n      <td>0</td>\n      <td>40</td>\n      <td>0</td>\n      <td>1</td>\n      <td>1</td>\n      <td>1593561600</td>\n    </tr>\n    <tr>\n      <th>550172</th>\n      <td>2</td>\n      <td>0</td>\n      <td>5</td>\n      <td>0</td>\n      <td>1</td>\n      <td>0</td>\n      <td>1601510400</td>\n    </tr>\n    <tr>\n      <th>550173</th>\n      <td>1</td>\n      <td>0</td>\n      <td>40</td>\n      <td>0</td>\n      <td>2</td>\n      <td>1</td>\n      <td>1614556800</td>\n    </tr>\n    <tr>\n      <th>550174</th>\n      <td>1</td>\n      <td>0</td>\n      <td>42</td>\n      <td>0</td>\n      <td>2</td>\n      <td>1</td>\n      <td>1612137600</td>\n    </tr>\n    <tr>\n      <th>550175</th>\n      <td>0</td>\n      <td>0</td>\n      <td>21</td>\n      <td>0</td>\n      <td>2</td>\n      <td>1</td>\n      <td>1604188800</td>\n    </tr>\n  </tbody>\n</table>\n<p>550176 rows × 7 columns</p>\n</div>"
     },
     "execution_count": 22,
     "metadata": {},
     "output_type": "execute_result"
    }
   ],
   "source": [
    "X"
   ],
   "metadata": {
    "collapsed": false,
    "ExecuteTime": {
     "end_time": "2024-05-11T11:35:57.922952800Z",
     "start_time": "2024-05-11T11:35:57.883152700Z"
    }
   },
   "id": "bf89d7f8690cae12"
  },
  {
   "cell_type": "code",
   "execution_count": null,
   "outputs": [],
   "source": [],
   "metadata": {
    "collapsed": false
   },
   "id": "5d5bf62a6738d08e"
  },
  {
   "cell_type": "code",
   "execution_count": 28,
   "outputs": [
    {
     "name": "stdout",
     "output_type": "stream",
     "text": [
      "Test Predictions:\n",
      "[108.07960591 150.88478116 150.88478116 146.72832456 163.27772136\n",
      " 171.46712925  58.39003615  67.03127287 146.17992614 143.97128208\n",
      " 143.64915342 136.06455038 101.29217653 142.19250828 146.48913643\n",
      " 147.53019824 147.0131929  146.75233596 145.98830415 148.72700768\n",
      " 148.40430886 148.72700768 148.40430886  25.22355117  78.44783173\n",
      "  39.40392406  28.23415618  27.68487312  27.21102334 214.47008067\n",
      " 181.88204079 163.61577574  30.61890689  31.700905    61.53485147\n",
      " 147.97159557 152.84502777 148.25913814 145.0107699  161.18581776\n",
      "  59.67276229  74.45610611 167.73485866 166.21186887 132.50660804\n",
      "  53.64307205 204.69214425 201.5876138  101.1550652   73.34749358\n",
      "  78.98849276 142.09561819 113.34016581  84.67326666 178.10757465\n",
      " 148.57868569 178.10757465 193.62400939 204.52945306 144.682103\n",
      " 143.31485603 146.65762615 145.89359434 146.57240368 146.37839328\n",
      " 147.36697764 146.13841794 146.64159281 145.877561   148.72700768\n",
      " 148.22695944 100.91479357  69.00591867  46.9822021   48.85887789\n",
      "  53.94098908  32.24406855 134.55792954  89.85629187  38.0480647\n",
      "  58.01970427  53.82840508 151.94403517 108.65962806  60.00544855\n",
      " 120.30325661  68.41689765  37.09189679  31.67124564  75.16934019\n",
      "  59.23112221  73.85449852 121.19026529  94.27051483  50.08116106\n",
      "  50.53780568]\n"
     ]
    }
   ],
   "source": [
    "# Load the test dataset\n",
    "\n",
    "# Make predictions on the test data (assuming model is already trained)\n",
    "test_predictions = model01.predict(test_data)\n",
    "\n",
    "# Print test predictions\n",
    "print(\"Test Predictions:\")\n",
    "print(test_predictions)"
   ],
   "metadata": {
    "collapsed": false,
    "ExecuteTime": {
     "end_time": "2024-05-11T11:38:57.288705200Z",
     "start_time": "2024-05-11T11:38:57.215199300Z"
    }
   },
   "id": "fd571079bb5c5507"
  },
  {
   "cell_type": "code",
   "execution_count": 25,
   "outputs": [
    {
     "name": "stdout",
     "output_type": "stream",
     "text": [
      "Root Mean Squared Error (RMSE): 32.200055575862834\n"
     ]
    }
   ],
   "source": [
    "import numpy as np\n",
    "\n",
    "# Assuming original values are stored in 'original_values'\n",
    "original_values = test_source  # Replace [...] with your original values\n",
    "\n",
    "# Calculate Mean Squared Error (MSE)\n",
    "rmse = np.sqrt(np.mean((test_predictions - original_values) ** 2))\n",
    "print(\"Root Mean Squared Error (RMSE):\", rmse)\n"
   ],
   "metadata": {
    "collapsed": false,
    "ExecuteTime": {
     "end_time": "2024-05-11T11:38:01.424862900Z",
     "start_time": "2024-05-11T11:38:01.396866700Z"
    }
   },
   "id": "e60acba754b0f661"
  },
  {
   "cell_type": "code",
   "execution_count": 26,
   "outputs": [
    {
     "data": {
      "text/plain": "(96,)"
     },
     "execution_count": 26,
     "metadata": {},
     "output_type": "execute_result"
    }
   ],
   "source": [
    "test_predictions.shape"
   ],
   "metadata": {
    "collapsed": false,
    "ExecuteTime": {
     "end_time": "2024-05-11T11:38:25.465286900Z",
     "start_time": "2024-05-11T11:38:25.442288300Z"
    }
   },
   "id": "1b7db81427c6b2a0"
  },
  {
   "cell_type": "code",
   "execution_count": 228,
   "outputs": [
    {
     "ename": "ValueError",
     "evalue": "unconverted data remains when parsing with format \"%b-%y\": \"21\", at position 0. You might want to try:\n    - passing `format` if your strings have a consistent format;\n    - passing `format='ISO8601'` if your strings are all ISO8601 but not necessarily in exactly the same format;\n    - passing `format='mixed'`, and the format will be inferred for each element individually. You might want to use `dayfirst` alongside this.",
     "output_type": "error",
     "traceback": [
      "\u001B[1;31m---------------------------------------------------------------------------\u001B[0m",
      "\u001B[1;31mValueError\u001B[0m                                Traceback (most recent call last)",
      "Cell \u001B[1;32mIn[228], line 15\u001B[0m\n\u001B[0;32m     12\u001B[0m user_df \u001B[38;5;241m=\u001B[39m pd\u001B[38;5;241m.\u001B[39mDataFrame([user_input])\n\u001B[0;32m     14\u001B[0m \u001B[38;5;66;03m# Preprocess the user input\u001B[39;00m\n\u001B[1;32m---> 15\u001B[0m user_df_preprocessed \u001B[38;5;241m=\u001B[39m \u001B[43mpreprocess_data\u001B[49m\u001B[43m(\u001B[49m\u001B[43muser_df\u001B[49m\u001B[43m)\u001B[49m\n\u001B[0;32m     17\u001B[0m \u001B[38;5;66;03m# Drop 'Sourcing Cost' column\u001B[39;00m\n\u001B[0;32m     18\u001B[0m \u001B[38;5;66;03m# user_df_preprocessed = user_df_preprocessed.drop('Sourcing Cost', axis=1)\u001B[39;00m\n\u001B[0;32m     19\u001B[0m \n\u001B[0;32m     20\u001B[0m \u001B[38;5;66;03m# Make predictions on the preprocessed user data\u001B[39;00m\n\u001B[0;32m     21\u001B[0m test_predictions \u001B[38;5;241m=\u001B[39m model\u001B[38;5;241m.\u001B[39mpredict(user_df_preprocessed)\n",
      "Cell \u001B[1;32mIn[214], line 15\u001B[0m, in \u001B[0;36mpreprocess_data\u001B[1;34m(data)\u001B[0m\n\u001B[0;32m     12\u001B[0m data[\u001B[38;5;124m'\u001B[39m\u001B[38;5;124mProduct Type\u001B[39m\u001B[38;5;124m'\u001B[39m] \u001B[38;5;241m=\u001B[39m label_encoder\u001B[38;5;241m.\u001B[39mfit_transform(data[\u001B[38;5;124m'\u001B[39m\u001B[38;5;124mProduct Type\u001B[39m\u001B[38;5;124m'\u001B[39m])\n\u001B[0;32m     14\u001B[0m \u001B[38;5;66;03m# Datetime conversion\u001B[39;00m\n\u001B[1;32m---> 15\u001B[0m data[\u001B[38;5;124m'\u001B[39m\u001B[38;5;124mMonth of Sourcing\u001B[39m\u001B[38;5;124m'\u001B[39m] \u001B[38;5;241m=\u001B[39m \u001B[43mpd\u001B[49m\u001B[38;5;241;43m.\u001B[39;49m\u001B[43mto_datetime\u001B[49m\u001B[43m(\u001B[49m\u001B[43mdata\u001B[49m\u001B[43m[\u001B[49m\u001B[38;5;124;43m'\u001B[39;49m\u001B[38;5;124;43mMonth of Sourcing\u001B[39;49m\u001B[38;5;124;43m'\u001B[39;49m\u001B[43m]\u001B[49m\u001B[43m,\u001B[49m\u001B[43m \u001B[49m\u001B[38;5;28;43mformat\u001B[39;49m\u001B[38;5;241;43m=\u001B[39;49m\u001B[38;5;124;43m'\u001B[39;49m\u001B[38;5;124;43m%\u001B[39;49m\u001B[38;5;124;43mb-\u001B[39;49m\u001B[38;5;124;43m%\u001B[39;49m\u001B[38;5;124;43my\u001B[39;49m\u001B[38;5;124;43m'\u001B[39;49m\u001B[43m)\u001B[49m\n\u001B[0;32m     16\u001B[0m \u001B[38;5;66;03m# Convert float to int\u001B[39;00m\n\u001B[0;32m     17\u001B[0m data[\u001B[38;5;124m'\u001B[39m\u001B[38;5;124mSourcing Cost\u001B[39m\u001B[38;5;124m'\u001B[39m] \u001B[38;5;241m=\u001B[39m data[\u001B[38;5;124m'\u001B[39m\u001B[38;5;124mSourcing Cost\u001B[39m\u001B[38;5;124m'\u001B[39m]\u001B[38;5;241m.\u001B[39mastype(\u001B[38;5;28mint\u001B[39m)\n",
      "File \u001B[1;32m~\\miniconda3\\envs\\tensorflow\\lib\\site-packages\\pandas\\core\\tools\\datetimes.py:1112\u001B[0m, in \u001B[0;36mto_datetime\u001B[1;34m(arg, errors, dayfirst, yearfirst, utc, format, exact, unit, infer_datetime_format, origin, cache)\u001B[0m\n\u001B[0;32m   1110\u001B[0m         result \u001B[38;5;241m=\u001B[39m arg\u001B[38;5;241m.\u001B[39mmap(cache_array)\n\u001B[0;32m   1111\u001B[0m     \u001B[38;5;28;01melse\u001B[39;00m:\n\u001B[1;32m-> 1112\u001B[0m         values \u001B[38;5;241m=\u001B[39m \u001B[43mconvert_listlike\u001B[49m\u001B[43m(\u001B[49m\u001B[43marg\u001B[49m\u001B[38;5;241;43m.\u001B[39;49m\u001B[43m_values\u001B[49m\u001B[43m,\u001B[49m\u001B[43m \u001B[49m\u001B[38;5;28;43mformat\u001B[39;49m\u001B[43m)\u001B[49m\n\u001B[0;32m   1113\u001B[0m         result \u001B[38;5;241m=\u001B[39m arg\u001B[38;5;241m.\u001B[39m_constructor(values, index\u001B[38;5;241m=\u001B[39marg\u001B[38;5;241m.\u001B[39mindex, name\u001B[38;5;241m=\u001B[39marg\u001B[38;5;241m.\u001B[39mname)\n\u001B[0;32m   1114\u001B[0m \u001B[38;5;28;01melif\u001B[39;00m \u001B[38;5;28misinstance\u001B[39m(arg, (ABCDataFrame, abc\u001B[38;5;241m.\u001B[39mMutableMapping)):\n",
      "File \u001B[1;32m~\\miniconda3\\envs\\tensorflow\\lib\\site-packages\\pandas\\core\\tools\\datetimes.py:488\u001B[0m, in \u001B[0;36m_convert_listlike_datetimes\u001B[1;34m(arg, format, name, utc, unit, errors, dayfirst, yearfirst, exact)\u001B[0m\n\u001B[0;32m    486\u001B[0m \u001B[38;5;66;03m# `format` could be inferred, or user didn't ask for mixed-format parsing.\u001B[39;00m\n\u001B[0;32m    487\u001B[0m \u001B[38;5;28;01mif\u001B[39;00m \u001B[38;5;28mformat\u001B[39m \u001B[38;5;129;01mis\u001B[39;00m \u001B[38;5;129;01mnot\u001B[39;00m \u001B[38;5;28;01mNone\u001B[39;00m \u001B[38;5;129;01mand\u001B[39;00m \u001B[38;5;28mformat\u001B[39m \u001B[38;5;241m!=\u001B[39m \u001B[38;5;124m\"\u001B[39m\u001B[38;5;124mmixed\u001B[39m\u001B[38;5;124m\"\u001B[39m:\n\u001B[1;32m--> 488\u001B[0m     \u001B[38;5;28;01mreturn\u001B[39;00m \u001B[43m_array_strptime_with_fallback\u001B[49m\u001B[43m(\u001B[49m\u001B[43marg\u001B[49m\u001B[43m,\u001B[49m\u001B[43m \u001B[49m\u001B[43mname\u001B[49m\u001B[43m,\u001B[49m\u001B[43m \u001B[49m\u001B[43mutc\u001B[49m\u001B[43m,\u001B[49m\u001B[43m \u001B[49m\u001B[38;5;28;43mformat\u001B[39;49m\u001B[43m,\u001B[49m\u001B[43m \u001B[49m\u001B[43mexact\u001B[49m\u001B[43m,\u001B[49m\u001B[43m \u001B[49m\u001B[43merrors\u001B[49m\u001B[43m)\u001B[49m\n\u001B[0;32m    490\u001B[0m result, tz_parsed \u001B[38;5;241m=\u001B[39m objects_to_datetime64ns(\n\u001B[0;32m    491\u001B[0m     arg,\n\u001B[0;32m    492\u001B[0m     dayfirst\u001B[38;5;241m=\u001B[39mdayfirst,\n\u001B[1;32m   (...)\u001B[0m\n\u001B[0;32m    496\u001B[0m     allow_object\u001B[38;5;241m=\u001B[39m\u001B[38;5;28;01mTrue\u001B[39;00m,\n\u001B[0;32m    497\u001B[0m )\n\u001B[0;32m    499\u001B[0m \u001B[38;5;28;01mif\u001B[39;00m tz_parsed \u001B[38;5;129;01mis\u001B[39;00m \u001B[38;5;129;01mnot\u001B[39;00m \u001B[38;5;28;01mNone\u001B[39;00m:\n\u001B[0;32m    500\u001B[0m     \u001B[38;5;66;03m# We can take a shortcut since the datetime64 numpy array\u001B[39;00m\n\u001B[0;32m    501\u001B[0m     \u001B[38;5;66;03m# is in UTC\u001B[39;00m\n",
      "File \u001B[1;32m~\\miniconda3\\envs\\tensorflow\\lib\\site-packages\\pandas\\core\\tools\\datetimes.py:519\u001B[0m, in \u001B[0;36m_array_strptime_with_fallback\u001B[1;34m(arg, name, utc, fmt, exact, errors)\u001B[0m\n\u001B[0;32m    508\u001B[0m \u001B[38;5;28;01mdef\u001B[39;00m \u001B[38;5;21m_array_strptime_with_fallback\u001B[39m(\n\u001B[0;32m    509\u001B[0m     arg,\n\u001B[0;32m    510\u001B[0m     name,\n\u001B[1;32m   (...)\u001B[0m\n\u001B[0;32m    514\u001B[0m     errors: \u001B[38;5;28mstr\u001B[39m,\n\u001B[0;32m    515\u001B[0m ) \u001B[38;5;241m-\u001B[39m\u001B[38;5;241m>\u001B[39m Index:\n\u001B[0;32m    516\u001B[0m \u001B[38;5;250m    \u001B[39m\u001B[38;5;124;03m\"\"\"\u001B[39;00m\n\u001B[0;32m    517\u001B[0m \u001B[38;5;124;03m    Call array_strptime, with fallback behavior depending on 'errors'.\u001B[39;00m\n\u001B[0;32m    518\u001B[0m \u001B[38;5;124;03m    \"\"\"\u001B[39;00m\n\u001B[1;32m--> 519\u001B[0m     result, timezones \u001B[38;5;241m=\u001B[39m \u001B[43marray_strptime\u001B[49m\u001B[43m(\u001B[49m\u001B[43marg\u001B[49m\u001B[43m,\u001B[49m\u001B[43m \u001B[49m\u001B[43mfmt\u001B[49m\u001B[43m,\u001B[49m\u001B[43m \u001B[49m\u001B[43mexact\u001B[49m\u001B[38;5;241;43m=\u001B[39;49m\u001B[43mexact\u001B[49m\u001B[43m,\u001B[49m\u001B[43m \u001B[49m\u001B[43merrors\u001B[49m\u001B[38;5;241;43m=\u001B[39;49m\u001B[43merrors\u001B[49m\u001B[43m,\u001B[49m\u001B[43m \u001B[49m\u001B[43mutc\u001B[49m\u001B[38;5;241;43m=\u001B[39;49m\u001B[43mutc\u001B[49m\u001B[43m)\u001B[49m\n\u001B[0;32m    520\u001B[0m     \u001B[38;5;28;01mif\u001B[39;00m \u001B[38;5;28many\u001B[39m(tz \u001B[38;5;129;01mis\u001B[39;00m \u001B[38;5;129;01mnot\u001B[39;00m \u001B[38;5;28;01mNone\u001B[39;00m \u001B[38;5;28;01mfor\u001B[39;00m tz \u001B[38;5;129;01min\u001B[39;00m timezones):\n\u001B[0;32m    521\u001B[0m         \u001B[38;5;28;01mreturn\u001B[39;00m _return_parsed_timezone_results(result, timezones, utc, name)\n",
      "File \u001B[1;32mstrptime.pyx:534\u001B[0m, in \u001B[0;36mpandas._libs.tslibs.strptime.array_strptime\u001B[1;34m()\u001B[0m\n",
      "File \u001B[1;32mstrptime.pyx:359\u001B[0m, in \u001B[0;36mpandas._libs.tslibs.strptime.array_strptime\u001B[1;34m()\u001B[0m\n",
      "\u001B[1;31mValueError\u001B[0m: unconverted data remains when parsing with format \"%b-%y\": \"21\", at position 0. You might want to try:\n    - passing `format` if your strings have a consistent format;\n    - passing `format='ISO8601'` if your strings are all ISO8601 but not necessarily in exactly the same format;\n    - passing `format='mixed'`, and the format will be inferred for each element individually. You might want to use `dayfirst` alongside this."
     ]
    }
   ],
   "source": [
    "# Take input from the user\n",
    "user_input = {}\n",
    "user_input['ProductType'] = input(\"Enter Product Type: \")\n",
    "user_input['Manufacturer'] = input(\"Enter Manufacturer: \")\n",
    "user_input['Area Code'] = input(\"Enter Area Code: \")\n",
    "user_input['Sourcing Channel'] = input(\"Enter Sourcing Channel: \")\n",
    "user_input['Product Size'] = input(\"Enter Product Size: \")\n",
    "user_input['Product Type'] = input(\"Enter Product Type: \")\n",
    "user_input['Month of Sourcing'] = input(\"Enter Month of Sourcing (in format YYYY-MM-DD or MM-YYYY): \")\n",
    "\n",
    "# Create a DataFrame from user input\n",
    "user_df = pd.DataFrame([user_input])\n",
    "\n",
    "# Preprocess the user input\n",
    "user_df_preprocessed = preprocess_data(user_df)\n",
    "\n",
    "# Drop 'Sourcing Cost' column\n",
    "# user_df_preprocessed = user_df_preprocessed.drop('Sourcing Cost', axis=1)\n",
    "\n",
    "# Make predictions on the preprocessed user data\n",
    "test_predictions = model.predict(user_df_preprocessed)\n",
    "\n",
    "# Print test predictions\n",
    "print(\"Test Predictions:\")\n",
    "print(test_predictions)\n"
   ],
   "metadata": {
    "collapsed": false,
    "ExecuteTime": {
     "end_time": "2024-05-11T09:50:55.269323600Z",
     "start_time": "2024-05-11T09:50:16.672980300Z"
    }
   },
   "id": "cda8c7493c42e252"
  },
  {
   "cell_type": "code",
   "execution_count": 29,
   "outputs": [
    {
     "name": "stdout",
     "output_type": "stream",
     "text": [
      "Collecting xgboost\n",
      "  Obtaining dependency information for xgboost from https://files.pythonhosted.org/packages/24/ec/ad387100fa3cc2b9b81af0829b5ecfe75ec5bb19dd7c19d4fea06fb81802/xgboost-2.0.3-py3-none-win_amd64.whl.metadata\n",
      "  Downloading xgboost-2.0.3-py3-none-win_amd64.whl.metadata (2.0 kB)\n",
      "Requirement already satisfied: numpy in c:\\users\\medhansh\\miniconda3\\envs\\tensorflow\\lib\\site-packages (from xgboost) (1.26.0)\n",
      "Requirement already satisfied: scipy in c:\\users\\medhansh\\miniconda3\\envs\\tensorflow\\lib\\site-packages (from xgboost) (1.11.3)\n",
      "Downloading xgboost-2.0.3-py3-none-win_amd64.whl (99.8 MB)\n",
      "   ---------------------------------------- 0.0/99.8 MB ? eta -:--:--\n",
      "   ---------------------------------------- 0.0/99.8 MB ? eta -:--:--\n",
      "   ---------------------------------------- 0.0/99.8 MB 162.5 kB/s eta 0:10:14\n",
      "   ---------------------------------------- 0.0/99.8 MB 279.3 kB/s eta 0:05:58\n",
      "   ---------------------------------------- 0.1/99.8 MB 476.3 kB/s eta 0:03:30\n",
      "   ---------------------------------------- 0.2/99.8 MB 841.6 kB/s eta 0:01:59\n",
      "   ---------------------------------------- 0.3/99.8 MB 1.1 MB/s eta 0:01:30\n",
      "   ---------------------------------------- 0.5/99.8 MB 1.6 MB/s eta 0:01:01\n",
      "   ---------------------------------------- 0.7/99.8 MB 2.0 MB/s eta 0:00:51\n",
      "   ---------------------------------------- 0.8/99.8 MB 2.0 MB/s eta 0:00:51\n",
      "   ---------------------------------------- 1.1/99.8 MB 2.5 MB/s eta 0:00:40\n",
      "    --------------------------------------- 1.4/99.8 MB 2.9 MB/s eta 0:00:35\n",
      "    --------------------------------------- 1.8/99.8 MB 3.4 MB/s eta 0:00:30\n",
      "    --------------------------------------- 2.3/99.8 MB 3.9 MB/s eta 0:00:25\n",
      "   - -------------------------------------- 2.8/99.8 MB 4.4 MB/s eta 0:00:22\n",
      "   - -------------------------------------- 3.3/99.8 MB 5.0 MB/s eta 0:00:20\n",
      "   - -------------------------------------- 3.6/99.8 MB 4.9 MB/s eta 0:00:20\n",
      "   - -------------------------------------- 4.0/99.8 MB 5.2 MB/s eta 0:00:19\n",
      "   - -------------------------------------- 4.6/99.8 MB 5.6 MB/s eta 0:00:17\n",
      "   -- ------------------------------------- 5.1/99.8 MB 5.9 MB/s eta 0:00:16\n",
      "   -- ------------------------------------- 5.7/99.8 MB 6.3 MB/s eta 0:00:15\n",
      "   -- ------------------------------------- 5.8/99.8 MB 6.1 MB/s eta 0:00:16\n",
      "   -- ------------------------------------- 6.4/99.8 MB 6.4 MB/s eta 0:00:15\n",
      "   -- ------------------------------------- 6.7/99.8 MB 6.5 MB/s eta 0:00:15\n",
      "   -- ------------------------------------- 6.9/99.8 MB 6.3 MB/s eta 0:00:15\n",
      "   -- ------------------------------------- 6.9/99.8 MB 6.2 MB/s eta 0:00:15\n",
      "   -- ------------------------------------- 6.9/99.8 MB 6.2 MB/s eta 0:00:15\n",
      "   -- ------------------------------------- 6.9/99.8 MB 6.2 MB/s eta 0:00:15\n",
      "   -- ------------------------------------- 6.9/99.8 MB 6.2 MB/s eta 0:00:15\n",
      "   --- ------------------------------------ 8.4/99.8 MB 6.3 MB/s eta 0:00:15\n",
      "   --- ------------------------------------ 8.9/99.8 MB 6.5 MB/s eta 0:00:15\n",
      "   --- ------------------------------------ 9.1/99.8 MB 6.6 MB/s eta 0:00:14\n",
      "   --- ------------------------------------ 9.6/99.8 MB 6.6 MB/s eta 0:00:14\n",
      "   --- ------------------------------------ 9.6/99.8 MB 6.6 MB/s eta 0:00:14\n",
      "   ---- ----------------------------------- 10.0/99.8 MB 6.5 MB/s eta 0:00:14\n",
      "   ---- ----------------------------------- 10.0/99.8 MB 6.3 MB/s eta 0:00:15\n",
      "   ---- ----------------------------------- 10.3/99.8 MB 6.4 MB/s eta 0:00:14\n",
      "   ---- ----------------------------------- 10.8/99.8 MB 7.4 MB/s eta 0:00:12\n",
      "   ---- ----------------------------------- 11.2/99.8 MB 7.8 MB/s eta 0:00:12\n",
      "   ---- ----------------------------------- 11.7/99.8 MB 7.9 MB/s eta 0:00:12\n",
      "   ---- ----------------------------------- 11.7/99.8 MB 7.9 MB/s eta 0:00:12\n",
      "   ---- ----------------------------------- 11.7/99.8 MB 7.9 MB/s eta 0:00:12\n",
      "   ----- ---------------------------------- 12.6/99.8 MB 7.6 MB/s eta 0:00:12\n",
      "   ----- ---------------------------------- 12.9/99.8 MB 7.5 MB/s eta 0:00:12\n",
      "   ----- ---------------------------------- 12.9/99.8 MB 7.3 MB/s eta 0:00:12\n",
      "   ----- ---------------------------------- 13.1/99.8 MB 7.3 MB/s eta 0:00:12\n",
      "   ----- ---------------------------------- 13.5/99.8 MB 7.0 MB/s eta 0:00:13\n",
      "   ----- ---------------------------------- 13.8/99.8 MB 7.1 MB/s eta 0:00:13\n",
      "   ----- ---------------------------------- 14.3/99.8 MB 7.1 MB/s eta 0:00:13\n",
      "   ----- ---------------------------------- 14.3/99.8 MB 7.1 MB/s eta 0:00:13\n",
      "   ----- ---------------------------------- 14.6/99.8 MB 6.8 MB/s eta 0:00:13\n",
      "   ----- ---------------------------------- 14.8/99.8 MB 6.6 MB/s eta 0:00:13\n",
      "   ------ --------------------------------- 15.2/99.8 MB 6.7 MB/s eta 0:00:13\n",
      "   ------ --------------------------------- 15.2/99.8 MB 6.7 MB/s eta 0:00:13\n",
      "   ------ --------------------------------- 15.5/99.8 MB 6.4 MB/s eta 0:00:14\n",
      "   ------ --------------------------------- 15.9/99.8 MB 6.3 MB/s eta 0:00:14\n",
      "   ------ --------------------------------- 16.1/99.8 MB 6.4 MB/s eta 0:00:14\n",
      "   ------ --------------------------------- 16.5/99.8 MB 6.3 MB/s eta 0:00:14\n",
      "   ------ --------------------------------- 16.9/99.8 MB 6.2 MB/s eta 0:00:14\n",
      "   ------ --------------------------------- 17.3/99.8 MB 7.3 MB/s eta 0:00:12\n",
      "   ------ --------------------------------- 17.4/99.8 MB 7.0 MB/s eta 0:00:12\n",
      "   ------- -------------------------------- 17.6/99.8 MB 6.8 MB/s eta 0:00:13\n",
      "   ------- -------------------------------- 18.0/99.8 MB 6.6 MB/s eta 0:00:13\n",
      "   ------- -------------------------------- 18.4/99.8 MB 6.4 MB/s eta 0:00:13\n",
      "   ------- -------------------------------- 18.5/99.8 MB 6.2 MB/s eta 0:00:14\n",
      "   ------- -------------------------------- 19.0/99.8 MB 6.2 MB/s eta 0:00:13\n",
      "   ------- -------------------------------- 19.4/99.8 MB 6.4 MB/s eta 0:00:13\n",
      "   ------- -------------------------------- 19.7/99.8 MB 6.3 MB/s eta 0:00:13\n",
      "   -------- ------------------------------- 20.1/99.8 MB 6.4 MB/s eta 0:00:13\n",
      "   -------- ------------------------------- 20.2/99.8 MB 6.5 MB/s eta 0:00:13\n",
      "   -------- ------------------------------- 20.2/99.8 MB 6.5 MB/s eta 0:00:13\n",
      "   -------- ------------------------------- 20.5/99.8 MB 6.4 MB/s eta 0:00:13\n",
      "   -------- ------------------------------- 21.0/99.8 MB 6.3 MB/s eta 0:00:13\n",
      "   -------- ------------------------------- 21.2/99.8 MB 6.2 MB/s eta 0:00:13\n",
      "   -------- ------------------------------- 21.6/99.8 MB 6.2 MB/s eta 0:00:13\n",
      "   -------- ------------------------------- 21.9/99.8 MB 6.1 MB/s eta 0:00:13\n",
      "   -------- ------------------------------- 21.9/99.8 MB 6.1 MB/s eta 0:00:13\n",
      "   -------- ------------------------------- 22.2/99.8 MB 6.3 MB/s eta 0:00:13\n",
      "   --------- ------------------------------ 22.5/99.8 MB 6.1 MB/s eta 0:00:13\n",
      "   --------- ------------------------------ 22.9/99.8 MB 6.0 MB/s eta 0:00:13\n",
      "   --------- ------------------------------ 22.9/99.8 MB 6.0 MB/s eta 0:00:13\n",
      "   --------- ------------------------------ 23.1/99.8 MB 5.8 MB/s eta 0:00:14\n",
      "   --------- ------------------------------ 23.3/99.8 MB 5.8 MB/s eta 0:00:14\n",
      "   --------- ------------------------------ 23.7/99.8 MB 6.0 MB/s eta 0:00:13\n",
      "   --------- ------------------------------ 23.7/99.8 MB 5.8 MB/s eta 0:00:14\n",
      "   --------- ------------------------------ 24.2/99.8 MB 5.8 MB/s eta 0:00:13\n",
      "   --------- ------------------------------ 24.6/99.8 MB 6.0 MB/s eta 0:00:13\n",
      "   --------- ------------------------------ 24.9/99.8 MB 6.0 MB/s eta 0:00:13\n",
      "   ---------- ----------------------------- 25.4/99.8 MB 6.1 MB/s eta 0:00:13\n",
      "   ---------- ----------------------------- 25.7/99.8 MB 6.3 MB/s eta 0:00:12\n",
      "   ---------- ----------------------------- 25.8/99.8 MB 6.2 MB/s eta 0:00:12\n",
      "   ---------- ----------------------------- 26.2/99.8 MB 6.2 MB/s eta 0:00:12\n",
      "   ---------- ----------------------------- 26.3/99.8 MB 6.2 MB/s eta 0:00:12\n",
      "   ---------- ----------------------------- 26.5/99.8 MB 6.0 MB/s eta 0:00:13\n",
      "   ---------- ----------------------------- 27.0/99.8 MB 6.0 MB/s eta 0:00:13\n",
      "   ---------- ----------------------------- 27.2/99.8 MB 6.0 MB/s eta 0:00:13\n",
      "   ----------- ---------------------------- 27.7/99.8 MB 6.1 MB/s eta 0:00:12\n",
      "   ----------- ---------------------------- 27.9/99.8 MB 6.2 MB/s eta 0:00:12\n",
      "   ----------- ---------------------------- 28.0/99.8 MB 6.0 MB/s eta 0:00:12\n",
      "   ----------- ---------------------------- 28.5/99.8 MB 6.1 MB/s eta 0:00:12\n",
      "   ----------- ---------------------------- 29.0/99.8 MB 6.2 MB/s eta 0:00:12\n",
      "   ----------- ---------------------------- 29.3/99.8 MB 6.2 MB/s eta 0:00:12\n",
      "   ----------- ---------------------------- 29.5/99.8 MB 6.0 MB/s eta 0:00:12\n",
      "   ------------ --------------------------- 29.9/99.8 MB 6.1 MB/s eta 0:00:12\n",
      "   ------------ --------------------------- 30.2/99.8 MB 6.0 MB/s eta 0:00:12\n",
      "   ------------ --------------------------- 30.7/99.8 MB 6.4 MB/s eta 0:00:11\n",
      "   ------------ --------------------------- 31.2/99.8 MB 6.5 MB/s eta 0:00:11\n",
      "   ------------ --------------------------- 31.6/99.8 MB 6.5 MB/s eta 0:00:11\n",
      "   ------------ --------------------------- 31.8/99.8 MB 6.4 MB/s eta 0:00:11\n",
      "   ------------ --------------------------- 32.2/99.8 MB 6.7 MB/s eta 0:00:11\n",
      "   ------------ --------------------------- 32.2/99.8 MB 6.7 MB/s eta 0:00:11\n",
      "   ------------- -------------------------- 32.6/99.8 MB 6.5 MB/s eta 0:00:11\n",
      "   ------------- -------------------------- 33.1/99.8 MB 6.6 MB/s eta 0:00:11\n",
      "   ------------- -------------------------- 33.5/99.8 MB 7.0 MB/s eta 0:00:10\n",
      "   ------------- -------------------------- 34.1/99.8 MB 7.4 MB/s eta 0:00:09\n",
      "   ------------- -------------------------- 34.3/99.8 MB 7.3 MB/s eta 0:00:09\n",
      "   ------------- -------------------------- 34.8/99.8 MB 7.2 MB/s eta 0:00:10\n",
      "   ------------- -------------------------- 34.9/99.8 MB 7.3 MB/s eta 0:00:09\n",
      "   -------------- ------------------------- 35.1/99.8 MB 7.1 MB/s eta 0:00:10\n",
      "   -------------- ------------------------- 35.1/99.8 MB 7.1 MB/s eta 0:00:10\n",
      "   -------------- ------------------------- 35.2/99.8 MB 6.6 MB/s eta 0:00:10\n",
      "   -------------- ------------------------- 36.2/99.8 MB 7.1 MB/s eta 0:00:09\n",
      "   -------------- ------------------------- 36.6/99.8 MB 7.4 MB/s eta 0:00:09\n",
      "   -------------- ------------------------- 36.8/99.8 MB 7.4 MB/s eta 0:00:09\n",
      "   -------------- ------------------------- 36.8/99.8 MB 7.4 MB/s eta 0:00:09\n",
      "   -------------- ------------------------- 37.0/99.8 MB 7.0 MB/s eta 0:00:10\n",
      "   -------------- ------------------------- 37.2/99.8 MB 6.9 MB/s eta 0:00:10\n",
      "   --------------- ------------------------ 37.7/99.8 MB 7.0 MB/s eta 0:00:09\n",
      "   --------------- ------------------------ 38.0/99.8 MB 6.9 MB/s eta 0:00:09\n",
      "   --------------- ------------------------ 38.3/99.8 MB 7.1 MB/s eta 0:00:09\n",
      "   --------------- ------------------------ 38.6/99.8 MB 7.0 MB/s eta 0:00:09\n",
      "   --------------- ------------------------ 39.0/99.8 MB 7.0 MB/s eta 0:00:09\n",
      "   --------------- ------------------------ 39.3/99.8 MB 6.9 MB/s eta 0:00:09\n",
      "   --------------- ------------------------ 39.5/99.8 MB 6.9 MB/s eta 0:00:09\n",
      "   --------------- ------------------------ 39.8/99.8 MB 7.0 MB/s eta 0:00:09\n",
      "   ---------------- ----------------------- 40.0/99.8 MB 6.8 MB/s eta 0:00:09\n",
      "   ---------------- ----------------------- 40.3/99.8 MB 6.8 MB/s eta 0:00:09\n",
      "   ---------------- ----------------------- 40.5/99.8 MB 6.7 MB/s eta 0:00:09\n",
      "   ---------------- ----------------------- 40.9/99.8 MB 6.7 MB/s eta 0:00:09\n",
      "   ---------------- ----------------------- 41.2/99.8 MB 6.5 MB/s eta 0:00:09\n",
      "   ---------------- ----------------------- 41.5/99.8 MB 6.5 MB/s eta 0:00:09\n",
      "   ---------------- ----------------------- 41.8/99.8 MB 6.5 MB/s eta 0:00:09\n",
      "   ---------------- ----------------------- 42.3/99.8 MB 6.6 MB/s eta 0:00:09\n",
      "   ----------------- ---------------------- 42.4/99.8 MB 6.5 MB/s eta 0:00:09\n",
      "   ----------------- ---------------------- 42.9/99.8 MB 6.7 MB/s eta 0:00:09\n",
      "   ----------------- ---------------------- 43.0/99.8 MB 6.7 MB/s eta 0:00:09\n",
      "   ----------------- ---------------------- 43.4/99.8 MB 6.5 MB/s eta 0:00:09\n",
      "   ----------------- ---------------------- 43.8/99.8 MB 6.5 MB/s eta 0:00:09\n",
      "   ----------------- ---------------------- 44.2/99.8 MB 6.4 MB/s eta 0:00:09\n",
      "   ----------------- ---------------------- 44.6/99.8 MB 6.5 MB/s eta 0:00:09\n",
      "   ------------------ --------------------- 45.0/99.8 MB 6.5 MB/s eta 0:00:09\n",
      "   ------------------ --------------------- 45.6/99.8 MB 7.1 MB/s eta 0:00:08\n",
      "   ------------------ --------------------- 45.6/99.8 MB 6.9 MB/s eta 0:00:08\n",
      "   ------------------ --------------------- 46.0/99.8 MB 6.7 MB/s eta 0:00:09\n",
      "   ------------------ --------------------- 46.5/99.8 MB 6.7 MB/s eta 0:00:08\n",
      "   ------------------ --------------------- 46.9/99.8 MB 6.7 MB/s eta 0:00:08\n",
      "   ------------------ --------------------- 47.1/99.8 MB 7.1 MB/s eta 0:00:08\n",
      "   ------------------ --------------------- 47.3/99.8 MB 7.0 MB/s eta 0:00:08\n",
      "   ------------------- -------------------- 47.7/99.8 MB 7.0 MB/s eta 0:00:08\n",
      "   ------------------- -------------------- 48.1/99.8 MB 7.0 MB/s eta 0:00:08\n",
      "   ------------------- -------------------- 48.5/99.8 MB 7.1 MB/s eta 0:00:08\n",
      "   ------------------- -------------------- 48.7/99.8 MB 7.1 MB/s eta 0:00:08\n",
      "   ------------------- -------------------- 48.9/99.8 MB 6.9 MB/s eta 0:00:08\n",
      "   ------------------- -------------------- 49.4/99.8 MB 7.1 MB/s eta 0:00:08\n",
      "   ------------------- -------------------- 49.8/99.8 MB 7.2 MB/s eta 0:00:07\n",
      "   -------------------- ------------------- 50.3/99.8 MB 7.4 MB/s eta 0:00:07\n",
      "   -------------------- ------------------- 50.5/99.8 MB 7.4 MB/s eta 0:00:07\n",
      "   -------------------- ------------------- 50.9/99.8 MB 7.5 MB/s eta 0:00:07\n",
      "   -------------------- ------------------- 51.1/99.8 MB 7.4 MB/s eta 0:00:07\n",
      "   -------------------- ------------------- 51.5/99.8 MB 7.4 MB/s eta 0:00:07\n",
      "   -------------------- ------------------- 51.9/99.8 MB 7.5 MB/s eta 0:00:07\n",
      "   -------------------- ------------------- 52.3/99.8 MB 7.4 MB/s eta 0:00:07\n",
      "   --------------------- ------------------ 52.5/99.8 MB 7.4 MB/s eta 0:00:07\n",
      "   --------------------- ------------------ 53.0/99.8 MB 7.5 MB/s eta 0:00:07\n",
      "   --------------------- ------------------ 53.5/99.8 MB 7.8 MB/s eta 0:00:06\n",
      "   --------------------- ------------------ 53.8/99.8 MB 7.7 MB/s eta 0:00:06\n",
      "   --------------------- ------------------ 54.1/99.8 MB 7.6 MB/s eta 0:00:07\n",
      "   --------------------- ------------------ 54.4/99.8 MB 7.6 MB/s eta 0:00:06\n",
      "   --------------------- ------------------ 54.8/99.8 MB 7.5 MB/s eta 0:00:06\n",
      "   ---------------------- ----------------- 55.2/99.8 MB 7.5 MB/s eta 0:00:06\n",
      "   ---------------------- ----------------- 55.5/99.8 MB 7.5 MB/s eta 0:00:06\n",
      "   ---------------------- ----------------- 55.8/99.8 MB 7.4 MB/s eta 0:00:06\n",
      "   ---------------------- ----------------- 56.2/99.8 MB 7.6 MB/s eta 0:00:06\n",
      "   ---------------------- ----------------- 56.6/99.8 MB 7.5 MB/s eta 0:00:06\n",
      "   ---------------------- ----------------- 56.8/99.8 MB 7.5 MB/s eta 0:00:06\n",
      "   ---------------------- ----------------- 57.1/99.8 MB 7.4 MB/s eta 0:00:06\n",
      "   ---------------------- ----------------- 57.3/99.8 MB 7.2 MB/s eta 0:00:06\n",
      "   ----------------------- ---------------- 57.6/99.8 MB 7.4 MB/s eta 0:00:06\n",
      "   ----------------------- ---------------- 57.6/99.8 MB 7.4 MB/s eta 0:00:06\n",
      "   ----------------------- ---------------- 57.9/99.8 MB 7.0 MB/s eta 0:00:06\n",
      "   ----------------------- ---------------- 58.3/99.8 MB 7.0 MB/s eta 0:00:06\n",
      "   ----------------------- ---------------- 58.6/99.8 MB 7.0 MB/s eta 0:00:06\n",
      "   ----------------------- ---------------- 58.9/99.8 MB 7.1 MB/s eta 0:00:06\n",
      "   ----------------------- ---------------- 59.2/99.8 MB 7.1 MB/s eta 0:00:06\n",
      "   ----------------------- ---------------- 59.6/99.8 MB 7.0 MB/s eta 0:00:06\n",
      "   ----------------------- ---------------- 59.8/99.8 MB 7.0 MB/s eta 0:00:06\n",
      "   ------------------------ --------------- 60.1/99.8 MB 7.0 MB/s eta 0:00:06\n",
      "   ------------------------ --------------- 60.4/99.8 MB 6.9 MB/s eta 0:00:06\n",
      "   ------------------------ --------------- 60.4/99.8 MB 6.6 MB/s eta 0:00:06\n",
      "   ------------------------ --------------- 60.8/99.8 MB 6.8 MB/s eta 0:00:06\n",
      "   ------------------------ --------------- 60.9/99.8 MB 6.7 MB/s eta 0:00:06\n",
      "   ------------------------ --------------- 61.2/99.8 MB 6.5 MB/s eta 0:00:06\n",
      "   ------------------------ --------------- 61.5/99.8 MB 6.5 MB/s eta 0:00:06\n",
      "   ------------------------ --------------- 61.6/99.8 MB 6.4 MB/s eta 0:00:07\n",
      "   ------------------------ --------------- 62.0/99.8 MB 6.4 MB/s eta 0:00:06\n",
      "   ------------------------- -------------- 62.4/99.8 MB 6.4 MB/s eta 0:00:06\n",
      "   ------------------------- -------------- 62.6/99.8 MB 6.4 MB/s eta 0:00:06\n",
      "   ------------------------- -------------- 62.6/99.8 MB 6.4 MB/s eta 0:00:06\n",
      "   ------------------------- -------------- 62.8/99.8 MB 6.2 MB/s eta 0:00:06\n",
      "   ------------------------- -------------- 62.9/99.8 MB 6.0 MB/s eta 0:00:07\n",
      "   ------------------------- -------------- 63.1/99.8 MB 6.0 MB/s eta 0:00:07\n",
      "   ------------------------- -------------- 63.2/99.8 MB 5.8 MB/s eta 0:00:07\n",
      "   ------------------------- -------------- 63.3/99.8 MB 5.7 MB/s eta 0:00:07\n",
      "   ------------------------- -------------- 63.8/99.8 MB 5.6 MB/s eta 0:00:07\n",
      "   ------------------------- -------------- 64.0/99.8 MB 5.6 MB/s eta 0:00:07\n",
      "   ------------------------- -------------- 64.5/99.8 MB 5.7 MB/s eta 0:00:07\n",
      "   ------------------------- -------------- 64.7/99.8 MB 5.6 MB/s eta 0:00:07\n",
      "   -------------------------- ------------- 65.2/99.8 MB 5.7 MB/s eta 0:00:07\n",
      "   -------------------------- ------------- 65.3/99.8 MB 5.7 MB/s eta 0:00:06\n",
      "   -------------------------- ------------- 65.8/99.8 MB 5.6 MB/s eta 0:00:07\n",
      "   -------------------------- ------------- 66.0/99.8 MB 5.7 MB/s eta 0:00:06\n",
      "   -------------------------- ------------- 66.1/99.8 MB 5.6 MB/s eta 0:00:07\n",
      "   -------------------------- ------------- 66.3/99.8 MB 5.4 MB/s eta 0:00:07\n",
      "   -------------------------- ------------- 66.6/99.8 MB 5.5 MB/s eta 0:00:07\n",
      "   -------------------------- ------------- 67.1/99.8 MB 5.6 MB/s eta 0:00:06\n",
      "   -------------------------- ------------- 67.1/99.8 MB 5.6 MB/s eta 0:00:06\n",
      "   -------------------------- ------------- 67.3/99.8 MB 5.3 MB/s eta 0:00:07\n",
      "   --------------------------- ------------ 67.7/99.8 MB 5.4 MB/s eta 0:00:06\n",
      "   --------------------------- ------------ 68.1/99.8 MB 5.6 MB/s eta 0:00:06\n",
      "   --------------------------- ------------ 68.1/99.8 MB 5.6 MB/s eta 0:00:06\n",
      "   --------------------------- ------------ 68.1/99.8 MB 5.3 MB/s eta 0:00:06\n",
      "   --------------------------- ------------ 68.1/99.8 MB 5.3 MB/s eta 0:00:06\n",
      "   --------------------------- ------------ 68.3/99.8 MB 5.2 MB/s eta 0:00:07\n",
      "   --------------------------- ------------ 68.7/99.8 MB 5.2 MB/s eta 0:00:06\n",
      "   --------------------------- ------------ 69.0/99.8 MB 5.2 MB/s eta 0:00:06\n",
      "   --------------------------- ------------ 69.2/99.8 MB 5.2 MB/s eta 0:00:06\n",
      "   --------------------------- ------------ 69.2/99.8 MB 5.2 MB/s eta 0:00:06\n",
      "   --------------------------- ------------ 69.4/99.8 MB 5.0 MB/s eta 0:00:07\n",
      "   --------------------------- ------------ 69.8/99.8 MB 5.0 MB/s eta 0:00:06\n",
      "   ---------------------------- ----------- 70.1/99.8 MB 5.0 MB/s eta 0:00:06\n",
      "   ---------------------------- ----------- 70.4/99.8 MB 5.0 MB/s eta 0:00:06\n",
      "   ---------------------------- ----------- 70.9/99.8 MB 5.2 MB/s eta 0:00:06\n",
      "   ---------------------------- ----------- 71.4/99.8 MB 5.4 MB/s eta 0:00:06\n",
      "   ---------------------------- ----------- 71.8/99.8 MB 5.4 MB/s eta 0:00:06\n",
      "   ---------------------------- ----------- 72.0/99.8 MB 5.5 MB/s eta 0:00:06\n",
      "   ----------------------------- ---------- 72.4/99.8 MB 5.5 MB/s eta 0:00:06\n",
      "   ----------------------------- ---------- 72.6/99.8 MB 5.4 MB/s eta 0:00:06\n",
      "   ----------------------------- ---------- 72.6/99.8 MB 5.4 MB/s eta 0:00:06\n",
      "   ----------------------------- ---------- 73.3/99.8 MB 6.0 MB/s eta 0:00:05\n",
      "   ----------------------------- ---------- 73.5/99.8 MB 5.9 MB/s eta 0:00:05\n",
      "   ----------------------------- ---------- 73.9/99.8 MB 5.9 MB/s eta 0:00:05\n",
      "   ----------------------------- ---------- 74.2/99.8 MB 5.9 MB/s eta 0:00:05\n",
      "   ----------------------------- ---------- 74.5/99.8 MB 5.9 MB/s eta 0:00:05\n",
      "   ------------------------------ --------- 74.9/99.8 MB 5.9 MB/s eta 0:00:05\n",
      "   ------------------------------ --------- 75.0/99.8 MB 5.8 MB/s eta 0:00:05\n",
      "   ------------------------------ --------- 75.1/99.8 MB 5.8 MB/s eta 0:00:05\n",
      "   ------------------------------ --------- 75.2/99.8 MB 5.6 MB/s eta 0:00:05\n",
      "   ------------------------------ --------- 75.5/99.8 MB 5.5 MB/s eta 0:00:05\n",
      "   ------------------------------ --------- 75.9/99.8 MB 5.6 MB/s eta 0:00:05\n",
      "   ------------------------------ --------- 76.0/99.8 MB 5.5 MB/s eta 0:00:05\n",
      "   ------------------------------ --------- 76.4/99.8 MB 5.8 MB/s eta 0:00:05\n",
      "   ------------------------------ --------- 76.8/99.8 MB 5.7 MB/s eta 0:00:04\n",
      "   ------------------------------ --------- 77.2/99.8 MB 5.7 MB/s eta 0:00:04\n",
      "   ------------------------------- -------- 77.5/99.8 MB 6.0 MB/s eta 0:00:04\n",
      "   ------------------------------- -------- 77.8/99.8 MB 5.9 MB/s eta 0:00:04\n",
      "   ------------------------------- -------- 78.1/99.8 MB 5.8 MB/s eta 0:00:04\n",
      "   ------------------------------- -------- 78.5/99.8 MB 6.4 MB/s eta 0:00:04\n",
      "   ------------------------------- -------- 78.9/99.8 MB 6.5 MB/s eta 0:00:04\n",
      "   ------------------------------- -------- 79.1/99.8 MB 6.5 MB/s eta 0:00:04\n",
      "   ------------------------------- -------- 79.3/99.8 MB 6.4 MB/s eta 0:00:04\n",
      "   ------------------------------- -------- 79.6/99.8 MB 6.8 MB/s eta 0:00:03\n",
      "   ------------------------------- -------- 79.8/99.8 MB 6.6 MB/s eta 0:00:04\n",
      "   -------------------------------- ------- 80.1/99.8 MB 6.5 MB/s eta 0:00:04\n",
      "   -------------------------------- ------- 80.5/99.8 MB 6.6 MB/s eta 0:00:03\n",
      "   -------------------------------- ------- 80.7/99.8 MB 6.5 MB/s eta 0:00:03\n",
      "   -------------------------------- ------- 81.0/99.8 MB 6.5 MB/s eta 0:00:03\n",
      "   -------------------------------- ------- 81.1/99.8 MB 6.4 MB/s eta 0:00:03\n",
      "   -------------------------------- ------- 81.6/99.8 MB 6.3 MB/s eta 0:00:03\n",
      "   -------------------------------- ------- 81.8/99.8 MB 6.2 MB/s eta 0:00:03\n",
      "   -------------------------------- ------- 82.0/99.8 MB 6.1 MB/s eta 0:00:03\n",
      "   --------------------------------- ------ 82.5/99.8 MB 6.2 MB/s eta 0:00:03\n",
      "   --------------------------------- ------ 82.9/99.8 MB 6.5 MB/s eta 0:00:03\n",
      "   --------------------------------- ------ 83.1/99.8 MB 6.4 MB/s eta 0:00:03\n",
      "   --------------------------------- ------ 83.5/99.8 MB 6.2 MB/s eta 0:00:03\n",
      "   --------------------------------- ------ 83.6/99.8 MB 6.4 MB/s eta 0:00:03\n",
      "   --------------------------------- ------ 83.9/99.8 MB 6.3 MB/s eta 0:00:03\n",
      "   --------------------------------- ------ 84.0/99.8 MB 6.1 MB/s eta 0:00:03\n",
      "   --------------------------------- ------ 84.4/99.8 MB 6.1 MB/s eta 0:00:03\n",
      "   ---------------------------------- ----- 84.8/99.8 MB 6.2 MB/s eta 0:00:03\n",
      "   ---------------------------------- ----- 85.1/99.8 MB 6.1 MB/s eta 0:00:03\n",
      "   ---------------------------------- ----- 85.5/99.8 MB 6.5 MB/s eta 0:00:03\n",
      "   ---------------------------------- ----- 85.5/99.8 MB 6.4 MB/s eta 0:00:03\n",
      "   ---------------------------------- ----- 85.8/99.8 MB 6.4 MB/s eta 0:00:03\n",
      "   ---------------------------------- ----- 86.3/99.8 MB 6.5 MB/s eta 0:00:03\n",
      "   ---------------------------------- ----- 86.5/99.8 MB 6.4 MB/s eta 0:00:03\n",
      "   ---------------------------------- ----- 86.8/99.8 MB 6.4 MB/s eta 0:00:03\n",
      "   ---------------------------------- ----- 87.2/99.8 MB 6.4 MB/s eta 0:00:02\n",
      "   ----------------------------------- ---- 87.7/99.8 MB 6.4 MB/s eta 0:00:02\n",
      "   ----------------------------------- ---- 88.0/99.8 MB 6.4 MB/s eta 0:00:02\n",
      "   ----------------------------------- ---- 88.2/99.8 MB 6.4 MB/s eta 0:00:02\n",
      "   ----------------------------------- ---- 88.6/99.8 MB 6.5 MB/s eta 0:00:02\n",
      "   ----------------------------------- ---- 88.7/99.8 MB 6.4 MB/s eta 0:00:02\n",
      "   ----------------------------------- ---- 89.0/99.8 MB 6.3 MB/s eta 0:00:02\n",
      "   ----------------------------------- ---- 89.4/99.8 MB 6.4 MB/s eta 0:00:02\n",
      "   ----------------------------------- ---- 89.6/99.8 MB 6.4 MB/s eta 0:00:02\n",
      "   ------------------------------------ --- 89.8/99.8 MB 6.2 MB/s eta 0:00:02\n",
      "   ------------------------------------ --- 90.1/99.8 MB 6.4 MB/s eta 0:00:02\n",
      "   ------------------------------------ --- 90.3/99.8 MB 6.3 MB/s eta 0:00:02\n",
      "   ------------------------------------ --- 90.6/99.8 MB 6.2 MB/s eta 0:00:02\n",
      "   ------------------------------------ --- 90.9/99.8 MB 6.3 MB/s eta 0:00:02\n",
      "   ------------------------------------ --- 91.2/99.8 MB 6.2 MB/s eta 0:00:02\n",
      "   ------------------------------------ --- 91.4/99.8 MB 6.5 MB/s eta 0:00:02\n",
      "   ------------------------------------ --- 91.7/99.8 MB 6.3 MB/s eta 0:00:02\n",
      "   ------------------------------------ --- 91.7/99.8 MB 6.3 MB/s eta 0:00:02\n",
      "   ------------------------------------- -- 92.5/99.8 MB 6.4 MB/s eta 0:00:02\n",
      "   ------------------------------------- -- 92.7/99.8 MB 6.3 MB/s eta 0:00:02\n",
      "   ------------------------------------- -- 92.9/99.8 MB 6.3 MB/s eta 0:00:02\n",
      "   ------------------------------------- -- 93.0/99.8 MB 6.1 MB/s eta 0:00:02\n",
      "   ------------------------------------- -- 93.3/99.8 MB 6.0 MB/s eta 0:00:02\n",
      "   ------------------------------------- -- 93.6/99.8 MB 6.1 MB/s eta 0:00:02\n",
      "   ------------------------------------- -- 93.8/99.8 MB 6.0 MB/s eta 0:00:01\n",
      "   ------------------------------------- -- 93.9/99.8 MB 6.1 MB/s eta 0:00:01\n",
      "   ------------------------------------- -- 94.2/99.8 MB 6.1 MB/s eta 0:00:01\n",
      "   ------------------------------------- -- 94.5/99.8 MB 6.1 MB/s eta 0:00:01\n",
      "   -------------------------------------- - 94.8/99.8 MB 6.1 MB/s eta 0:00:01\n",
      "   -------------------------------------- - 95.0/99.8 MB 5.9 MB/s eta 0:00:01\n",
      "   -------------------------------------- - 95.3/99.8 MB 5.9 MB/s eta 0:00:01\n",
      "   -------------------------------------- - 95.6/99.8 MB 5.9 MB/s eta 0:00:01\n",
      "   -------------------------------------- - 95.9/99.8 MB 6.0 MB/s eta 0:00:01\n",
      "   -------------------------------------- - 96.3/99.8 MB 6.1 MB/s eta 0:00:01\n",
      "   -------------------------------------- - 96.5/99.8 MB 6.0 MB/s eta 0:00:01\n",
      "   -------------------------------------- - 96.7/99.8 MB 6.0 MB/s eta 0:00:01\n",
      "   -------------------------------------- - 97.2/99.8 MB 6.1 MB/s eta 0:00:01\n",
      "   ---------------------------------------  97.3/99.8 MB 6.0 MB/s eta 0:00:01\n",
      "   ---------------------------------------  97.5/99.8 MB 5.9 MB/s eta 0:00:01\n",
      "   ---------------------------------------  97.8/99.8 MB 5.8 MB/s eta 0:00:01\n",
      "   ---------------------------------------  98.0/99.8 MB 5.7 MB/s eta 0:00:01\n",
      "   ---------------------------------------  98.1/99.8 MB 5.6 MB/s eta 0:00:01\n",
      "   ---------------------------------------  98.2/99.8 MB 5.6 MB/s eta 0:00:01\n",
      "   ---------------------------------------  98.3/99.8 MB 5.5 MB/s eta 0:00:01\n",
      "   ---------------------------------------  98.4/99.8 MB 5.4 MB/s eta 0:00:01\n",
      "   ---------------------------------------  98.5/99.8 MB 5.3 MB/s eta 0:00:01\n",
      "   ---------------------------------------  98.7/99.8 MB 5.2 MB/s eta 0:00:01\n",
      "   ---------------------------------------  99.0/99.8 MB 5.3 MB/s eta 0:00:01\n",
      "   ---------------------------------------  99.1/99.8 MB 5.2 MB/s eta 0:00:01\n",
      "   ---------------------------------------  99.2/99.8 MB 5.2 MB/s eta 0:00:01\n",
      "   ---------------------------------------  99.6/99.8 MB 5.1 MB/s eta 0:00:01\n",
      "   ---------------------------------------  99.7/99.8 MB 5.1 MB/s eta 0:00:01\n",
      "   ---------------------------------------  99.7/99.8 MB 5.1 MB/s eta 0:00:01\n",
      "   ---------------------------------------  99.7/99.8 MB 5.1 MB/s eta 0:00:01\n",
      "   ---------------------------------------  99.7/99.8 MB 5.1 MB/s eta 0:00:01\n",
      "   ---------------------------------------  99.7/99.8 MB 5.1 MB/s eta 0:00:01\n",
      "   ---------------------------------------  99.7/99.8 MB 5.1 MB/s eta 0:00:01\n",
      "   ---------------------------------------  99.7/99.8 MB 5.1 MB/s eta 0:00:01\n",
      "   ---------------------------------------- 99.8/99.8 MB 4.1 MB/s eta 0:00:00\n",
      "Installing collected packages: xgboost\n",
      "Successfully installed xgboost-2.0.3\n"
     ]
    },
    {
     "name": "stderr",
     "output_type": "stream",
     "text": [
      "WARNING: Ignoring invalid distribution -rotobuf (c:\\users\\medhansh\\miniconda3\\envs\\tensorflow\\lib\\site-packages)\n",
      "WARNING: Ignoring invalid distribution -rotobuf (c:\\users\\medhansh\\miniconda3\\envs\\tensorflow\\lib\\site-packages)\n"
     ]
    }
   ],
   "source": [
    "!pip install xgboost\n"
   ],
   "metadata": {
    "collapsed": false,
    "ExecuteTime": {
     "end_time": "2024-05-11T11:42:18.729019300Z",
     "start_time": "2024-05-11T11:41:52.424653200Z"
    }
   },
   "id": "57801b3991fd4058"
  },
  {
   "cell_type": "code",
   "execution_count": null,
   "outputs": [],
   "source": [],
   "metadata": {
    "collapsed": false
   },
   "id": "2c81eab687297d92"
  }
 ],
 "metadata": {
  "kernelspec": {
   "display_name": "Python 3.9 (tensorflow)",
   "language": "python",
   "name": "tensorflow"
  },
  "language_info": {
   "codemirror_mode": {
    "name": "ipython",
    "version": 3
   },
   "file_extension": ".py",
   "mimetype": "text/x-python",
   "name": "python",
   "nbconvert_exporter": "python",
   "pygments_lexer": "ipython3",
   "version": "3.9.18"
  }
 },
 "nbformat": 4,
 "nbformat_minor": 5
}
