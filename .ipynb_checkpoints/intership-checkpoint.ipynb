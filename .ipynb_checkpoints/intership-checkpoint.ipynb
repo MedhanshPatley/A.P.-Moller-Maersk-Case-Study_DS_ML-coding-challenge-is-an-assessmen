{
 "cells": [
  {
   "cell_type": "code",
   "execution_count": 1,
   "id": "initial_id",
   "metadata": {
    "ExecuteTime": {
     "end_time": "2024-05-10T12:05:08.283036400Z",
     "start_time": "2024-05-10T12:05:07.363872700Z"
    },
    "collapsed": true
   },
   "outputs": [],
   "source": [
    "import pandas as pd"
   ]
  },
  {
   "cell_type": "code",
   "execution_count": 11,
   "id": "d7c0bdb90944eb8b",
   "metadata": {
    "ExecuteTime": {
     "end_time": "2024-05-10T12:08:49.716964200Z",
     "start_time": "2024-05-10T12:08:48.435688300Z"
    }
   },
   "outputs": [
    {
     "name": "stdout",
     "output_type": "stream",
     "text": [
      "   ProductType Manufacturer Area Code Sourcing Channel Product Size  \\\n",
      "0         NTM1           X1        A1           DIRECT        Small   \n",
      "1         NTM1           X1       A10           DIRECT        Large   \n",
      "2         NTM1           X1       A10             ECOM        Large   \n",
      "3         NTM1           X1       A11           DIRECT        Large   \n",
      "4         NTM1           X1        A2           DIRECT        Large   \n",
      "..         ...          ...       ...              ...          ...   \n",
      "91        NTM3           X1       A44           DIRECT        Small   \n",
      "92        NTM3           X1        A8           DIRECT        Large   \n",
      "93        NTM3           X1        A8           DIRECT        Small   \n",
      "94        NTM3           X2       A20           DIRECT        Large   \n",
      "95        NTM3           X3       A22           RETAIL        Large   \n",
      "\n",
      "   Product Type  Number of Units  \n",
      "0        Powder            12676  \n",
      "1        Powder             5758  \n",
      "2        Powder             2320  \n",
      "3        Powder            12098  \n",
      "4        Powder             4295  \n",
      "..          ...              ...  \n",
      "91       Liquid            10656  \n",
      "92       Powder             5620  \n",
      "93       Powder             1814  \n",
      "94       Powder             2126  \n",
      "95       Powder             9624  \n",
      "\n",
      "[96 rows x 7 columns]\n"
     ]
    }
   ],
   "source": [
    "import pandas as pd\n",
    "\n",
    "# Load the dataset\n",
    "data = pd.read_csv('DS_ML Coding Challenge Dataset (1).xlsx - Training Dataset.csv')\n",
    "\n",
    "# Group the data by attributes defining a product combination and count the number of rows (units)\n",
    "units_per_combination = data.groupby(['ProductType', 'Manufacturer', 'Area Code', 'Sourcing Channel', 'Product Size', 'Product Type']).size().reset_index(name='Number of Units')\n",
    "\n",
    "# Print the result\n",
    "print(units_per_combination)\n"
   ]
  },
  {
   "cell_type": "code",
   "execution_count": 10,
   "id": "3781ee6fd1ea9dba",
   "metadata": {
    "ExecuteTime": {
     "end_time": "2024-05-10T12:13:50.870590200Z",
     "start_time": "2024-05-10T12:13:50.765553Z"
    }
   },
   "outputs": [
    {
     "name": "stdout",
     "output_type": "stream",
     "text": [
      "Shape of units_per_combination DataFrame: (96, 7)\n"
     ]
    }
   ],
   "source": [
    "# Check the shape of the DataFrame\n",
    "shape = units_per_combination.shape\n",
    "\n",
    "# Print the shape\n",
    "print(\"Shape of units_per_combination DataFrame:\", shape)\n"
   ]
  },
  {
   "cell_type": "code",
   "execution_count": null,
   "id": "f65759357d786913",
   "metadata": {},
   "outputs": [],
   "source": []
  }
 ],
 "metadata": {
  "kernelspec": {
   "display_name": "Python 3.9 (tensorflow)",
   "language": "python",
   "name": "tensorflow"
  },
  "language_info": {
   "codemirror_mode": {
    "name": "ipython",
    "version": 3
   },
   "file_extension": ".py",
   "mimetype": "text/x-python",
   "name": "python",
   "nbconvert_exporter": "python",
   "pygments_lexer": "ipython3",
   "version": "3.9.18"
  }
 },
 "nbformat": 4,
 "nbformat_minor": 5
}
